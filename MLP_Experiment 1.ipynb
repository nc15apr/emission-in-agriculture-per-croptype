{
 "cells": [
  {
   "cell_type": "code",
   "execution_count": 2,
   "metadata": {},
   "outputs": [
    {
     "name": "stderr",
     "output_type": "stream",
     "text": [
      "Using TensorFlow backend.\n"
     ]
    }
   ],
   "source": [
    "import pandas as pd\n",
    "import numpy as np\n",
    "import random\n",
    "import sklearn\n",
    "from sklearn.model_selection import *\n",
    "from sklearn import preprocessing\n",
    "from sklearn.neural_network import MLPRegressor\n",
    "from sklearn.model_selection import train_test_split\n",
    "from sklearn.ensemble import RandomForestRegressor\n",
    "\n",
    "from sklearn.svm import SVR\n",
    "from sklearn.metrics import mean_squared_error\n",
    "#Metrics\n",
    "from sklearn.metrics import mean_absolute_error\n",
    "from sklearn.metrics import r2_score\n",
    "from sklearn.metrics import mean_squared_error\n",
    "\n",
    "import matplotlib.pyplot as plt\n",
    "import seaborn as sns\n",
    "from scipy.stats import pearsonr\n",
    "from numpy import cov\n",
    "import keras\n",
    "from keras.layers import Activation, Dense, Dropout, Flatten,MaxPooling1D\n",
    "from keras.models import Sequential\n",
    "#from keras.layers import GaussianNoise\n",
    "from keras import optimizers\n",
    "import warnings\n",
    "warnings.filterwarnings('ignore')\n",
    "from scipy import stats as st\n",
    "import datetime\n",
    "import tensorflow as tf\n",
    "import math\n",
    "\n",
    "from scipy.stats import zscore"
   ]
  },
  {
   "cell_type": "code",
   "execution_count": 33,
   "metadata": {},
   "outputs": [],
   "source": [
    "data = pd.read_csv(\"emission.csv\")"
   ]
  },
  {
   "cell_type": "code",
   "execution_count": 34,
   "metadata": {},
   "outputs": [],
   "source": [
    "i = data[(data['Area harvested'] == 0) |(data['Production quantity'] == 0)].index\n",
    "data=data.drop(i)"
   ]
  },
  {
   "cell_type": "code",
   "execution_count": 49,
   "metadata": {},
   "outputs": [],
   "source": [
    "#data.isnull().sum()"
   ]
  },
  {
   "cell_type": "markdown",
   "metadata": {},
   "source": [
    "# Experiment 1: Dropping AH"
   ]
  },
  {
   "cell_type": "markdown",
   "metadata": {},
   "source": [
    "# Experiment 1a"
   ]
  },
  {
   "cell_type": "code",
   "execution_count": 4,
   "metadata": {},
   "outputs": [
    {
     "data": {
      "text/html": [
       "<div>\n",
       "<style scoped>\n",
       "    .dataframe tbody tr th:only-of-type {\n",
       "        vertical-align: middle;\n",
       "    }\n",
       "\n",
       "    .dataframe tbody tr th {\n",
       "        vertical-align: top;\n",
       "    }\n",
       "\n",
       "    .dataframe thead th {\n",
       "        text-align: right;\n",
       "    }\n",
       "</style>\n",
       "<table border=\"1\" class=\"dataframe\">\n",
       "  <thead>\n",
       "    <tr style=\"text-align: right;\">\n",
       "      <th></th>\n",
       "      <th>Country</th>\n",
       "      <th>Crop</th>\n",
       "      <th>Year</th>\n",
       "      <th>Production quantity</th>\n",
       "      <th>Yield</th>\n",
       "      <th>Annual Population</th>\n",
       "      <th>Total emission</th>\n",
       "    </tr>\n",
       "  </thead>\n",
       "  <tbody>\n",
       "    <tr>\n",
       "      <td>0</td>\n",
       "      <td>Afghanistan</td>\n",
       "      <td>Barley</td>\n",
       "      <td>1961</td>\n",
       "      <td>378000.0</td>\n",
       "      <td>10800.0</td>\n",
       "      <td>9169.410</td>\n",
       "      <td>35.3617</td>\n",
       "    </tr>\n",
       "    <tr>\n",
       "      <td>1</td>\n",
       "      <td>Afghanistan</td>\n",
       "      <td>Barley</td>\n",
       "      <td>1962</td>\n",
       "      <td>378000.0</td>\n",
       "      <td>10800.0</td>\n",
       "      <td>9351.441</td>\n",
       "      <td>35.3617</td>\n",
       "    </tr>\n",
       "    <tr>\n",
       "      <td>2</td>\n",
       "      <td>Afghanistan</td>\n",
       "      <td>Barley</td>\n",
       "      <td>1963</td>\n",
       "      <td>378000.0</td>\n",
       "      <td>10800.0</td>\n",
       "      <td>9543.205</td>\n",
       "      <td>35.3617</td>\n",
       "    </tr>\n",
       "    <tr>\n",
       "      <td>3</td>\n",
       "      <td>Afghanistan</td>\n",
       "      <td>Barley</td>\n",
       "      <td>1964</td>\n",
       "      <td>380000.0</td>\n",
       "      <td>10857.0</td>\n",
       "      <td>9744.781</td>\n",
       "      <td>35.4883</td>\n",
       "    </tr>\n",
       "    <tr>\n",
       "      <td>4</td>\n",
       "      <td>Afghanistan</td>\n",
       "      <td>Barley</td>\n",
       "      <td>1965</td>\n",
       "      <td>380000.0</td>\n",
       "      <td>10857.0</td>\n",
       "      <td>9956.320</td>\n",
       "      <td>35.4883</td>\n",
       "    </tr>\n",
       "  </tbody>\n",
       "</table>\n",
       "</div>"
      ],
      "text/plain": [
       "       Country    Crop  Year  Production quantity    Yield  Annual Population  \\\n",
       "0  Afghanistan  Barley  1961             378000.0  10800.0           9169.410   \n",
       "1  Afghanistan  Barley  1962             378000.0  10800.0           9351.441   \n",
       "2  Afghanistan  Barley  1963             378000.0  10800.0           9543.205   \n",
       "3  Afghanistan  Barley  1964             380000.0  10857.0           9744.781   \n",
       "4  Afghanistan  Barley  1965             380000.0  10857.0           9956.320   \n",
       "\n",
       "   Total emission  \n",
       "0         35.3617  \n",
       "1         35.3617  \n",
       "2         35.3617  \n",
       "3         35.4883  \n",
       "4         35.4883  "
      ]
     },
     "execution_count": 4,
     "metadata": {},
     "output_type": "execute_result"
    }
   ],
   "source": [
    "data.drop(['Area harvested'],inplace=True,axis=1)\n",
    "data.head()"
   ]
  },
  {
   "cell_type": "code",
   "execution_count": 5,
   "metadata": {},
   "outputs": [],
   "source": [
    "en = preprocessing.LabelEncoder()\n",
    "en.fit(data[\"Country\"])\n",
    "area = en.transform(data[\"Country\"])\n",
    "data[\"Country\"] = area\n",
    "en.fit(data[\"Crop\"])\n",
    "items = en.transform(data[\"Crop\"])\n",
    "data[\"Crop\"] = items\n",
    "\n",
    "data[\"Production quantity\"] = np.log10(data[\"Production quantity\"])\n",
    "data[\"Yield\"] = np.log10(data[\"Yield\"])\n",
    "data[\"Annual Population\"] = np.log10(data[\"Annual Population\"])\n",
    "data[\"Total emission\"] = np.log10(data[\"Total emission\"])"
   ]
  },
  {
   "cell_type": "code",
   "execution_count": 4,
   "metadata": {},
   "outputs": [
    {
     "ename": "NameError",
     "evalue": "name 'data' is not defined",
     "output_type": "error",
     "traceback": [
      "\u001b[0;31m---------------------------------------------------------------------------\u001b[0m",
      "\u001b[0;31mNameError\u001b[0m                                 Traceback (most recent call last)",
      "\u001b[0;32m<ipython-input-4-22156ec110c8>\u001b[0m in \u001b[0;36m<module>\u001b[0;34m\u001b[0m\n\u001b[1;32m      1\u001b[0m \u001b[0;31m#np.random.shuffle(data)\u001b[0m\u001b[0;34m\u001b[0m\u001b[0;34m\u001b[0m\u001b[0;34m\u001b[0m\u001b[0m\n\u001b[0;32m----> 2\u001b[0;31m \u001b[0mX\u001b[0m \u001b[0;34m=\u001b[0m \u001b[0mnp\u001b[0m\u001b[0;34m.\u001b[0m\u001b[0marray\u001b[0m\u001b[0;34m(\u001b[0m\u001b[0mdata\u001b[0m\u001b[0;34m.\u001b[0m\u001b[0miloc\u001b[0m\u001b[0;34m[\u001b[0m\u001b[0;34m:\u001b[0m\u001b[0;34m,\u001b[0m\u001b[0;34m:\u001b[0m\u001b[0;36m5\u001b[0m\u001b[0;34m]\u001b[0m\u001b[0;34m)\u001b[0m\u001b[0;34m\u001b[0m\u001b[0;34m\u001b[0m\u001b[0m\n\u001b[0m\u001b[1;32m      3\u001b[0m \u001b[0my\u001b[0m \u001b[0;34m=\u001b[0m \u001b[0mnp\u001b[0m\u001b[0;34m.\u001b[0m\u001b[0marray\u001b[0m\u001b[0;34m(\u001b[0m\u001b[0mdata\u001b[0m\u001b[0;34m.\u001b[0m\u001b[0miloc\u001b[0m\u001b[0;34m[\u001b[0m\u001b[0;34m:\u001b[0m\u001b[0;34m,\u001b[0m\u001b[0;36m6\u001b[0m\u001b[0;34m]\u001b[0m\u001b[0;34m)\u001b[0m\u001b[0;34m\u001b[0m\u001b[0;34m\u001b[0m\u001b[0m\n\u001b[1;32m      4\u001b[0m X_train, X_test, y_train, y_test = train_test_split(\n\u001b[1;32m      5\u001b[0m     X, y, test_size=0.30, random_state=500)\n",
      "\u001b[0;31mNameError\u001b[0m: name 'data' is not defined"
     ]
    }
   ],
   "source": [
    "#np.random.shuffle(data)\n",
    "X = np.array(data.iloc[:,:5])\n",
    "y = np.array(data.iloc[:,6])\n",
    "X_train, X_test, y_train, y_test = train_test_split(\n",
    "    X, y, test_size=0.30, random_state=500)"
   ]
  },
  {
   "cell_type": "markdown",
   "metadata": {},
   "source": [
    "# Experiment 1a: MLP Regressor"
   ]
  },
  {
   "cell_type": "code",
   "execution_count": 7,
   "metadata": {},
   "outputs": [
    {
     "data": {
      "text/plain": [
       "MLPRegressor(activation='relu', alpha=0.01, batch_size='auto', beta_1=0.9,\n",
       "             beta_2=0.999, early_stopping=False, epsilon=1e-08,\n",
       "             hidden_layer_sizes=(120, 64, 18, 8, 6), learning_rate='constant',\n",
       "             learning_rate_init=0.001, max_fun=15000, max_iter=100,\n",
       "             momentum=0.9, n_iter_no_change=10, nesterovs_momentum=True,\n",
       "             power_t=0.5, random_state=50, shuffle=True, solver='adam',\n",
       "             tol=0.0001, validation_fraction=0.1, verbose=False,\n",
       "             warm_start=False)"
      ]
     },
     "execution_count": 7,
     "metadata": {},
     "output_type": "execute_result"
    }
   ],
   "source": [
    "regr = MLPRegressor(hidden_layer_sizes=(120,64,18,8,6 ), activation='relu', solver='adam', alpha=0.01, \n",
    "                    batch_size='auto',verbose=False,\n",
    "                    max_iter=100, shuffle=True, random_state=50)\n",
    "regr.fit(X_train, y_train)\n"
   ]
  },
  {
   "cell_type": "code",
   "execution_count": 3,
   "metadata": {},
   "outputs": [
    {
     "ename": "NameError",
     "evalue": "name 'X_train' is not defined",
     "output_type": "error",
     "traceback": [
      "\u001b[0;31m---------------------------------------------------------------------------\u001b[0m",
      "\u001b[0;31mNameError\u001b[0m                                 Traceback (most recent call last)",
      "\u001b[0;32m<ipython-input-3-1aa35fee963e>\u001b[0m in \u001b[0;36m<module>\u001b[0;34m\u001b[0m\n\u001b[1;32m      1\u001b[0m \u001b[0mregr\u001b[0m \u001b[0;34m=\u001b[0m \u001b[0mRandomForestRegressor\u001b[0m\u001b[0;34m(\u001b[0m\u001b[0mmax_depth\u001b[0m\u001b[0;34m=\u001b[0m\u001b[0;36m10\u001b[0m\u001b[0;34m,\u001b[0m \u001b[0mrandom_state\u001b[0m\u001b[0;34m=\u001b[0m\u001b[0;36m0\u001b[0m\u001b[0;34m)\u001b[0m\u001b[0;34m\u001b[0m\u001b[0;34m\u001b[0m\u001b[0m\n\u001b[0;32m----> 2\u001b[0;31m \u001b[0mregr\u001b[0m\u001b[0;34m.\u001b[0m\u001b[0mfit\u001b[0m\u001b[0;34m(\u001b[0m\u001b[0mX_train\u001b[0m\u001b[0;34m,\u001b[0m \u001b[0my_train\u001b[0m\u001b[0;34m)\u001b[0m\u001b[0;34m\u001b[0m\u001b[0;34m\u001b[0m\u001b[0m\n\u001b[0m",
      "\u001b[0;31mNameError\u001b[0m: name 'X_train' is not defined"
     ]
    }
   ],
   "source": []
  },
  {
   "cell_type": "code",
   "execution_count": 8,
   "metadata": {},
   "outputs": [
    {
     "name": "stdout",
     "output_type": "stream",
     "text": [
      "Experiment 1a_MLP\n",
      "Test metrics\n",
      "Test MAE: 0.205\n",
      "Test R2 0.962\n",
      "Test MSE: 0.269\n",
      "Test RMSE: 0.072\n",
      "Train metrics\n",
      "Train MAE: 0.205\n",
      "Train R2 0.961\n",
      "Train MSE: 0.269\n",
      "Train RMSE: 0.073\n"
     ]
    }
   ],
   "source": [
    "print(\"Experiment 1a_MLP\")\n",
    "print(\"Test metrics\")\n",
    "MLP_1a_test = regr.predict(X_test)\n",
    "\n",
    "print(\"Test MAE:\", round(mean_absolute_error(y_test, MLP_1a_test),3))\n",
    "print(\"Test R2\", round(r2_score(y_test, MLP_1a_test),3))\n",
    "print(\"Test MSE:\", round(mean_squared_error(y_test, MLP_1a_test, squared= False),3))\n",
    "print(\"Test RMSE:\",round(mean_squared_error(y_test, MLP_1a_test, squared= True),3))\n",
    "\n",
    "print(\"Train metrics\")\n",
    "MLP_1a_train = regr.predict(X_train)\n",
    "\n",
    "print(\"Train MAE:\", round(mean_absolute_error(y_train, MLP_1a_train),3))\n",
    "print(\"Train R2\", round(r2_score(y_train, MLP_1a_train),3))\n",
    "print(\"Train MSE:\", round(mean_squared_error(y_train, MLP_1a_train, squared= False),3))\n",
    "print(\"Train RMSE:\",round(mean_squared_error(y_train, MLP_1a_train, squared= True),3))"
   ]
  },
  {
   "cell_type": "code",
   "execution_count": 9,
   "metadata": {},
   "outputs": [
    {
     "name": "stdout",
     "output_type": "stream",
     "text": [
      "Experiment 1a_MLP_test\n"
     ]
    },
    {
     "data": {
      "text/plain": [
       "<matplotlib.legend.Legend at 0x112774750>"
      ]
     },
     "execution_count": 9,
     "metadata": {},
     "output_type": "execute_result"
    },
    {
     "data": {
      "image/png": "[encoded data removed]",
      "text/plain": [
       "<Figure size 432x288 with 1 Axes>"
      ]
     },
     "metadata": {
      "needs_background": "light"
     },
     "output_type": "display_data"
    }
   ],
   "source": [
    "print(\"Experiment 1a_MLP_test\")\n",
    "plt.scatter(X_test[:200,2],y_test[:200],marker='*',color='r',s=50)\n",
    "plt.scatter(X_test[:200,2],MLP_1a_test[:200],color='g',s=50)\n",
    "plt.title('MLP Regressor model Predicted vs Actual')\n",
    "plt.ylabel('Predicted and Actual CO2 emission')\n",
    "plt.xlabel('Year')\n",
    "plt.legend(['Actual', 'Predicted'], loc='upper right')\n",
    "# plt.show()\n",
    "# plt.savefig('Ex:1_Model_MSE.jpg', bbox_inches='tight')"
   ]
  },
  {
   "cell_type": "code",
   "execution_count": 10,
   "metadata": {
    "scrolled": true
   },
   "outputs": [
    {
     "name": "stdout",
     "output_type": "stream",
     "text": [
      "Experiment 1a_MLP_test\n"
     ]
    },
    {
     "data": {
      "text/plain": [
       "Text(-2.0, 2.0, 'R-squared = 0.96')"
      ]
     },
     "execution_count": 10,
     "metadata": {},
     "output_type": "execute_result"
    },
    {
     "data": {
      "image/png": "[encoded data removed]",
      "text/plain": [
       "<Figure size 432x288 with 1 Axes>"
      ]
     },
     "metadata": {
      "needs_background": "light"
     },
     "output_type": "display_data"
    }
   ],
   "source": [
    "print(\"Experiment 1a_MLP_test\")\n",
    "plt.scatter(y_test,MLP_1a_test,s=50,marker='*',color='skyblue')\n",
    "m, b = np.polyfit(y_test, MLP_1a_test,1)\n",
    "plt.plot(y_test, m*y_test + b)\n",
    "plt.title('MLP regressor Model Predicted vs Actual emission')\n",
    "plt.ylabel('Predicted emission')\n",
    "plt.xlabel('Actual emission')\n",
    "plt.text(-2.0, 2.0, 'R-squared = %0.2f' % r2_score(y_test, MLP_1a_test))"
   ]
  },
  {
   "cell_type": "markdown",
   "metadata": {},
   "source": [
    "# Experiment 1b: MLP Regressor"
   ]
  },
  {
   "cell_type": "code",
   "execution_count": 11,
   "metadata": {},
   "outputs": [],
   "source": [
    "df=data.copy()\n",
    "cols = list(df.columns)\n",
    "cols.remove('Country')\n",
    "cols.remove('Crop')\n",
    "cols.remove('Year')\n",
    "df[cols]\n",
    "df[cols]=df[cols].apply(zscore)"
   ]
  },
  {
   "cell_type": "code",
   "execution_count": 12,
   "metadata": {},
   "outputs": [
    {
     "data": {
      "text/html": [
       "<div>\n",
       "<style scoped>\n",
       "    .dataframe tbody tr th:only-of-type {\n",
       "        vertical-align: middle;\n",
       "    }\n",
       "\n",
       "    .dataframe tbody tr th {\n",
       "        vertical-align: top;\n",
       "    }\n",
       "\n",
       "    .dataframe thead th {\n",
       "        text-align: right;\n",
       "    }\n",
       "</style>\n",
       "<table border=\"1\" class=\"dataframe\">\n",
       "  <thead>\n",
       "    <tr style=\"text-align: right;\">\n",
       "      <th></th>\n",
       "      <th>Country</th>\n",
       "      <th>Crop</th>\n",
       "      <th>Year</th>\n",
       "      <th>Production quantity</th>\n",
       "      <th>Yield</th>\n",
       "      <th>Annual Population</th>\n",
       "      <th>Total emission</th>\n",
       "    </tr>\n",
       "  </thead>\n",
       "  <tbody>\n",
       "    <tr>\n",
       "      <td>0</td>\n",
       "      <td>0</td>\n",
       "      <td>0</td>\n",
       "      <td>1961</td>\n",
       "      <td>0.487802</td>\n",
       "      <td>-0.669556</td>\n",
       "      <td>-0.076500</td>\n",
       "      <td>0.681998</td>\n",
       "    </tr>\n",
       "    <tr>\n",
       "      <td>1</td>\n",
       "      <td>0</td>\n",
       "      <td>0</td>\n",
       "      <td>1962</td>\n",
       "      <td>0.487802</td>\n",
       "      <td>-0.669556</td>\n",
       "      <td>-0.065645</td>\n",
       "      <td>0.681998</td>\n",
       "    </tr>\n",
       "    <tr>\n",
       "      <td>2</td>\n",
       "      <td>0</td>\n",
       "      <td>0</td>\n",
       "      <td>1963</td>\n",
       "      <td>0.487802</td>\n",
       "      <td>-0.669556</td>\n",
       "      <td>-0.054435</td>\n",
       "      <td>0.681998</td>\n",
       "    </tr>\n",
       "    <tr>\n",
       "      <td>3</td>\n",
       "      <td>0</td>\n",
       "      <td>0</td>\n",
       "      <td>1964</td>\n",
       "      <td>0.489424</td>\n",
       "      <td>-0.665639</td>\n",
       "      <td>-0.042892</td>\n",
       "      <td>0.683132</td>\n",
       "    </tr>\n",
       "    <tr>\n",
       "      <td>4</td>\n",
       "      <td>0</td>\n",
       "      <td>0</td>\n",
       "      <td>1965</td>\n",
       "      <td>0.489424</td>\n",
       "      <td>-0.665639</td>\n",
       "      <td>-0.031032</td>\n",
       "      <td>0.683132</td>\n",
       "    </tr>\n",
       "  </tbody>\n",
       "</table>\n",
       "</div>"
      ],
      "text/plain": [
       "   Country  Crop  Year  Production quantity     Yield  Annual Population  \\\n",
       "0        0     0  1961             0.487802 -0.669556          -0.076500   \n",
       "1        0     0  1962             0.487802 -0.669556          -0.065645   \n",
       "2        0     0  1963             0.487802 -0.669556          -0.054435   \n",
       "3        0     0  1964             0.489424 -0.665639          -0.042892   \n",
       "4        0     0  1965             0.489424 -0.665639          -0.031032   \n",
       "\n",
       "   Total emission  \n",
       "0        0.681998  \n",
       "1        0.681998  \n",
       "2        0.681998  \n",
       "3        0.683132  \n",
       "4        0.683132  "
      ]
     },
     "execution_count": 12,
     "metadata": {},
     "output_type": "execute_result"
    }
   ],
   "source": [
    "df.head()"
   ]
  },
  {
   "cell_type": "code",
   "execution_count": 13,
   "metadata": {},
   "outputs": [],
   "source": [
    "X1 = np.array(df.iloc[:,:5])\n",
    "y1 = np.array(df.iloc[:,6])\n",
    "X1_train, X1_test, y1_train, y1_test = train_test_split(\n",
    "    X1, y1, test_size=0.30, random_state=300)"
   ]
  },
  {
   "cell_type": "code",
   "execution_count": 14,
   "metadata": {},
   "outputs": [
    {
     "data": {
      "text/plain": [
       "MLPRegressor(activation='relu', alpha=0.01, batch_size='auto', beta_1=0.9,\n",
       "             beta_2=0.999, early_stopping=False, epsilon=1e-08,\n",
       "             hidden_layer_sizes=(120, 64, 18, 8, 6), learning_rate='constant',\n",
       "             learning_rate_init=0.001, max_fun=15000, max_iter=100,\n",
       "             momentum=0.9, n_iter_no_change=10, nesterovs_momentum=True,\n",
       "             power_t=0.5, random_state=50, shuffle=True, solver='adam',\n",
       "             tol=0.0001, validation_fraction=0.1, verbose=False,\n",
       "             warm_start=False)"
      ]
     },
     "execution_count": 14,
     "metadata": {},
     "output_type": "execute_result"
    }
   ],
   "source": [
    "regr = MLPRegressor(hidden_layer_sizes=(120,64,18,8,6 ), activation='relu', solver='adam', alpha=0.01, \n",
    "                    batch_size='auto',verbose=False,\n",
    "                    max_iter=100, shuffle=True, random_state=50)\n",
    "regr.fit(X1_train, y1_train)\n"
   ]
  },
  {
   "cell_type": "code",
   "execution_count": 15,
   "metadata": {},
   "outputs": [
    {
     "name": "stdout",
     "output_type": "stream",
     "text": [
      "Test metrics 1b_test\n",
      "Test MAE: 0.153\n",
      "Test R2 0.959\n",
      "Test MSE: 0.203\n",
      "Test RMSE: 0.041\n",
      "Train metrics\n",
      "Train MAE: 0.152\n",
      "Train R2 0.96\n",
      "Train MSE: 0.201\n",
      "Train RMSE: 0.04\n"
     ]
    }
   ],
   "source": [
    "print(\"Test metrics 1b_test\")\n",
    "MLP_1b_test = regr.predict(X1_test)\n",
    "\n",
    "print(\"Test MAE:\", round(mean_absolute_error(y1_test, MLP_1b_test),3))\n",
    "print(\"Test R2\", round(r2_score(y1_test, MLP_1b_test),3))\n",
    "print(\"Test MSE:\", round(mean_squared_error(y1_test, MLP_1b_test, squared= False),3))\n",
    "print(\"Test RMSE:\",round(mean_squared_error(y1_test, MLP_1b_test, squared= True),3))\n",
    "\n",
    "print(\"Train metrics\")\n",
    "MLP_1b_train = regr.predict(X1_train)\n",
    "\n",
    "print(\"Train MAE:\", round(mean_absolute_error(y1_train, MLP_1b_train),3))\n",
    "print(\"Train R2\", round(r2_score(y1_train, MLP_1b_train),3))\n",
    "print(\"Train MSE:\", round(mean_squared_error(y1_train, MLP_1b_train, squared= False),3))\n",
    "print(\"Train RMSE:\",round(mean_squared_error(y1_train, MLP_1b_train, squared= True),3))"
   ]
  },
  {
   "cell_type": "code",
   "execution_count": 17,
   "metadata": {},
   "outputs": [
    {
     "name": "stdout",
     "output_type": "stream",
     "text": [
      "Experiment 1b_MLP_test\n"
     ]
    },
    {
     "data": {
      "text/plain": [
       "<matplotlib.legend.Legend at 0x13d510850>"
      ]
     },
     "execution_count": 17,
     "metadata": {},
     "output_type": "execute_result"
    },
    {
     "data": {
      "image/png": "[encoded data removed]",
      "text/plain": [
       "<Figure size 432x288 with 1 Axes>"
      ]
     },
     "metadata": {
      "needs_background": "light"
     },
     "output_type": "display_data"
    }
   ],
   "source": [
    "print(\"Experiment 1b_MLP_test\")\n",
    "plt.scatter(X1_test[:200,2],y1_test[:200],marker='*',color='r',s=50)\n",
    "plt.scatter(X1_test[:200,2],MLP_1b_test[:200],color='g',s=50)\n",
    "plt.title('MLP Regressor model Predicted vs Actual')\n",
    "plt.ylabel('Predicted and Actual CO2 emission')\n",
    "plt.xlabel('Year')\n",
    "plt.legend(['Actual', 'Predicted'], loc='upper right')\n",
    "# plt.show()\n",
    "# plt.savefig('Ex:1_Model_MSE.jpg', bbox_inches='tight')"
   ]
  },
  {
   "cell_type": "code",
   "execution_count": 18,
   "metadata": {
    "scrolled": true
   },
   "outputs": [
    {
     "name": "stdout",
     "output_type": "stream",
     "text": [
      "Experiment 1b_MLP_test\n"
     ]
    },
    {
     "data": {
      "text/plain": [
       "Text(-2.0, 2.0, 'R-squared = 0.96')"
      ]
     },
     "execution_count": 18,
     "metadata": {},
     "output_type": "execute_result"
    },
    {
     "data": {
      "image/png": "[encoded data removed]",
      "text/plain": [
       "<Figure size 432x288 with 1 Axes>"
      ]
     },
     "metadata": {
      "needs_background": "light"
     },
     "output_type": "display_data"
    }
   ],
   "source": [
    "print(\"Experiment 1b_MLP_test\")\n",
    "plt.scatter(y1_test,MLP_1b_test,s=50,marker='*',color='skyblue')\n",
    "m, b = np.polyfit(y1_test, MLP_1b_test,1)\n",
    "plt.plot(y1_test, m*y1_test + b)\n",
    "plt.title('MLP regressor Model Predicted vs Actual emission')\n",
    "plt.ylabel('Predicted emission')\n",
    "plt.xlabel('Actual emission')\n",
    "plt.text(-2.0, 2.0, 'R-squared = %0.2f' % r2_score(y1_test, MLP_1b_test))"
   ]
  },
  {
   "cell_type": "markdown",
   "metadata": {},
   "source": [
    "# Experiment 2: "
   ]
  },
  {
   "cell_type": "code",
   "execution_count": 19,
   "metadata": {},
   "outputs": [],
   "source": [
    "data1 = pd.read_csv(\"emission.csv\")"
   ]
  },
  {
   "cell_type": "code",
   "execution_count": 20,
   "metadata": {},
   "outputs": [],
   "source": [
    "i = data1[(data1['Area harvested'] == 0) |(data1['Production quantity'] == 0)].index\n",
    "data1=data1.drop(i)"
   ]
  },
  {
   "cell_type": "code",
   "execution_count": 21,
   "metadata": {},
   "outputs": [
    {
     "data": {
      "text/html": [
       "<div>\n",
       "<style scoped>\n",
       "    .dataframe tbody tr th:only-of-type {\n",
       "        vertical-align: middle;\n",
       "    }\n",
       "\n",
       "    .dataframe tbody tr th {\n",
       "        vertical-align: top;\n",
       "    }\n",
       "\n",
       "    .dataframe thead th {\n",
       "        text-align: right;\n",
       "    }\n",
       "</style>\n",
       "<table border=\"1\" class=\"dataframe\">\n",
       "  <thead>\n",
       "    <tr style=\"text-align: right;\">\n",
       "      <th></th>\n",
       "      <th>Country</th>\n",
       "      <th>Crop</th>\n",
       "      <th>Year</th>\n",
       "      <th>Area harvested</th>\n",
       "      <th>Production quantity</th>\n",
       "      <th>Yield</th>\n",
       "      <th>Annual Population</th>\n",
       "      <th>Total emission</th>\n",
       "    </tr>\n",
       "  </thead>\n",
       "  <tbody>\n",
       "    <tr>\n",
       "      <td>0</td>\n",
       "      <td>Afghanistan</td>\n",
       "      <td>Barley</td>\n",
       "      <td>1961</td>\n",
       "      <td>350000.0</td>\n",
       "      <td>378000.0</td>\n",
       "      <td>10800.0</td>\n",
       "      <td>9169.410</td>\n",
       "      <td>35.3617</td>\n",
       "    </tr>\n",
       "    <tr>\n",
       "      <td>1</td>\n",
       "      <td>Afghanistan</td>\n",
       "      <td>Barley</td>\n",
       "      <td>1962</td>\n",
       "      <td>350000.0</td>\n",
       "      <td>378000.0</td>\n",
       "      <td>10800.0</td>\n",
       "      <td>9351.441</td>\n",
       "      <td>35.3617</td>\n",
       "    </tr>\n",
       "    <tr>\n",
       "      <td>2</td>\n",
       "      <td>Afghanistan</td>\n",
       "      <td>Barley</td>\n",
       "      <td>1963</td>\n",
       "      <td>350000.0</td>\n",
       "      <td>378000.0</td>\n",
       "      <td>10800.0</td>\n",
       "      <td>9543.205</td>\n",
       "      <td>35.3617</td>\n",
       "    </tr>\n",
       "    <tr>\n",
       "      <td>3</td>\n",
       "      <td>Afghanistan</td>\n",
       "      <td>Barley</td>\n",
       "      <td>1964</td>\n",
       "      <td>350000.0</td>\n",
       "      <td>380000.0</td>\n",
       "      <td>10857.0</td>\n",
       "      <td>9744.781</td>\n",
       "      <td>35.4883</td>\n",
       "    </tr>\n",
       "    <tr>\n",
       "      <td>4</td>\n",
       "      <td>Afghanistan</td>\n",
       "      <td>Barley</td>\n",
       "      <td>1965</td>\n",
       "      <td>350000.0</td>\n",
       "      <td>380000.0</td>\n",
       "      <td>10857.0</td>\n",
       "      <td>9956.320</td>\n",
       "      <td>35.4883</td>\n",
       "    </tr>\n",
       "  </tbody>\n",
       "</table>\n",
       "</div>"
      ],
      "text/plain": [
       "       Country    Crop  Year  Area harvested  Production quantity    Yield  \\\n",
       "0  Afghanistan  Barley  1961        350000.0             378000.0  10800.0   \n",
       "1  Afghanistan  Barley  1962        350000.0             378000.0  10800.0   \n",
       "2  Afghanistan  Barley  1963        350000.0             378000.0  10800.0   \n",
       "3  Afghanistan  Barley  1964        350000.0             380000.0  10857.0   \n",
       "4  Afghanistan  Barley  1965        350000.0             380000.0  10857.0   \n",
       "\n",
       "   Annual Population  Total emission  \n",
       "0           9169.410         35.3617  \n",
       "1           9351.441         35.3617  \n",
       "2           9543.205         35.3617  \n",
       "3           9744.781         35.4883  \n",
       "4           9956.320         35.4883  "
      ]
     },
     "execution_count": 21,
     "metadata": {},
     "output_type": "execute_result"
    }
   ],
   "source": [
    "data1.head()"
   ]
  },
  {
   "cell_type": "code",
   "execution_count": 22,
   "metadata": {},
   "outputs": [],
   "source": [
    "data1[\"Production quantity\"] = (data1[\"Production quantity\"]/data1[\"Area harvested\"])\n",
    "data1[\"Yield\"] = (data1[\"Yield\"]/data1[\"Area harvested\"])"
   ]
  },
  {
   "cell_type": "code",
   "execution_count": 23,
   "metadata": {},
   "outputs": [
    {
     "data": {
      "text/html": [
       "<div>\n",
       "<style scoped>\n",
       "    .dataframe tbody tr th:only-of-type {\n",
       "        vertical-align: middle;\n",
       "    }\n",
       "\n",
       "    .dataframe tbody tr th {\n",
       "        vertical-align: top;\n",
       "    }\n",
       "\n",
       "    .dataframe thead th {\n",
       "        text-align: right;\n",
       "    }\n",
       "</style>\n",
       "<table border=\"1\" class=\"dataframe\">\n",
       "  <thead>\n",
       "    <tr style=\"text-align: right;\">\n",
       "      <th></th>\n",
       "      <th>Country</th>\n",
       "      <th>Crop</th>\n",
       "      <th>Year</th>\n",
       "      <th>Area harvested</th>\n",
       "      <th>Production quantity</th>\n",
       "      <th>Yield</th>\n",
       "      <th>Annual Population</th>\n",
       "      <th>Total emission</th>\n",
       "    </tr>\n",
       "  </thead>\n",
       "  <tbody>\n",
       "    <tr>\n",
       "      <td>0</td>\n",
       "      <td>Afghanistan</td>\n",
       "      <td>Barley</td>\n",
       "      <td>1961</td>\n",
       "      <td>350000.0</td>\n",
       "      <td>1.080000</td>\n",
       "      <td>0.030857</td>\n",
       "      <td>9169.410</td>\n",
       "      <td>35.3617</td>\n",
       "    </tr>\n",
       "    <tr>\n",
       "      <td>1</td>\n",
       "      <td>Afghanistan</td>\n",
       "      <td>Barley</td>\n",
       "      <td>1962</td>\n",
       "      <td>350000.0</td>\n",
       "      <td>1.080000</td>\n",
       "      <td>0.030857</td>\n",
       "      <td>9351.441</td>\n",
       "      <td>35.3617</td>\n",
       "    </tr>\n",
       "    <tr>\n",
       "      <td>2</td>\n",
       "      <td>Afghanistan</td>\n",
       "      <td>Barley</td>\n",
       "      <td>1963</td>\n",
       "      <td>350000.0</td>\n",
       "      <td>1.080000</td>\n",
       "      <td>0.030857</td>\n",
       "      <td>9543.205</td>\n",
       "      <td>35.3617</td>\n",
       "    </tr>\n",
       "    <tr>\n",
       "      <td>3</td>\n",
       "      <td>Afghanistan</td>\n",
       "      <td>Barley</td>\n",
       "      <td>1964</td>\n",
       "      <td>350000.0</td>\n",
       "      <td>1.085714</td>\n",
       "      <td>0.031020</td>\n",
       "      <td>9744.781</td>\n",
       "      <td>35.4883</td>\n",
       "    </tr>\n",
       "    <tr>\n",
       "      <td>4</td>\n",
       "      <td>Afghanistan</td>\n",
       "      <td>Barley</td>\n",
       "      <td>1965</td>\n",
       "      <td>350000.0</td>\n",
       "      <td>1.085714</td>\n",
       "      <td>0.031020</td>\n",
       "      <td>9956.320</td>\n",
       "      <td>35.4883</td>\n",
       "    </tr>\n",
       "  </tbody>\n",
       "</table>\n",
       "</div>"
      ],
      "text/plain": [
       "       Country    Crop  Year  Area harvested  Production quantity     Yield  \\\n",
       "0  Afghanistan  Barley  1961        350000.0             1.080000  0.030857   \n",
       "1  Afghanistan  Barley  1962        350000.0             1.080000  0.030857   \n",
       "2  Afghanistan  Barley  1963        350000.0             1.080000  0.030857   \n",
       "3  Afghanistan  Barley  1964        350000.0             1.085714  0.031020   \n",
       "4  Afghanistan  Barley  1965        350000.0             1.085714  0.031020   \n",
       "\n",
       "   Annual Population  Total emission  \n",
       "0           9169.410         35.3617  \n",
       "1           9351.441         35.3617  \n",
       "2           9543.205         35.3617  \n",
       "3           9744.781         35.4883  \n",
       "4           9956.320         35.4883  "
      ]
     },
     "execution_count": 23,
     "metadata": {},
     "output_type": "execute_result"
    }
   ],
   "source": [
    "data1.head()"
   ]
  },
  {
   "cell_type": "code",
   "execution_count": 24,
   "metadata": {},
   "outputs": [],
   "source": [
    "data1.drop(['Area harvested'],inplace=True,axis=1)"
   ]
  },
  {
   "cell_type": "code",
   "execution_count": 25,
   "metadata": {},
   "outputs": [],
   "source": [
    "data1[\"Production quantity\"] = np.log10(data1[\"Production quantity\"])\n",
    "data1[\"Yield\"] = np.log10(data1[\"Yield\"])\n",
    "data1['Annual Population']=np.log10(data1['Annual Population'])\n",
    "data1['Total emission']=np.log(data1['Total emission'])"
   ]
  },
  {
   "cell_type": "code",
   "execution_count": 26,
   "metadata": {},
   "outputs": [
    {
     "data": {
      "text/html": [
       "<div>\n",
       "<style scoped>\n",
       "    .dataframe tbody tr th:only-of-type {\n",
       "        vertical-align: middle;\n",
       "    }\n",
       "\n",
       "    .dataframe tbody tr th {\n",
       "        vertical-align: top;\n",
       "    }\n",
       "\n",
       "    .dataframe thead th {\n",
       "        text-align: right;\n",
       "    }\n",
       "</style>\n",
       "<table border=\"1\" class=\"dataframe\">\n",
       "  <thead>\n",
       "    <tr style=\"text-align: right;\">\n",
       "      <th></th>\n",
       "      <th>Country</th>\n",
       "      <th>Crop</th>\n",
       "      <th>Year</th>\n",
       "      <th>Production quantity</th>\n",
       "      <th>Yield</th>\n",
       "      <th>Annual Population</th>\n",
       "      <th>Total emission</th>\n",
       "    </tr>\n",
       "  </thead>\n",
       "  <tbody>\n",
       "    <tr>\n",
       "      <td>0</td>\n",
       "      <td>Afghanistan</td>\n",
       "      <td>Barley</td>\n",
       "      <td>1961</td>\n",
       "      <td>0.033424</td>\n",
       "      <td>-1.510644</td>\n",
       "      <td>3.962341</td>\n",
       "      <td>3.565629</td>\n",
       "    </tr>\n",
       "    <tr>\n",
       "      <td>1</td>\n",
       "      <td>Afghanistan</td>\n",
       "      <td>Barley</td>\n",
       "      <td>1962</td>\n",
       "      <td>0.033424</td>\n",
       "      <td>-1.510644</td>\n",
       "      <td>3.970879</td>\n",
       "      <td>3.565629</td>\n",
       "    </tr>\n",
       "    <tr>\n",
       "      <td>2</td>\n",
       "      <td>Afghanistan</td>\n",
       "      <td>Barley</td>\n",
       "      <td>1963</td>\n",
       "      <td>0.033424</td>\n",
       "      <td>-1.510644</td>\n",
       "      <td>3.979694</td>\n",
       "      <td>3.565629</td>\n",
       "    </tr>\n",
       "    <tr>\n",
       "      <td>3</td>\n",
       "      <td>Afghanistan</td>\n",
       "      <td>Barley</td>\n",
       "      <td>1964</td>\n",
       "      <td>0.035716</td>\n",
       "      <td>-1.508358</td>\n",
       "      <td>3.988772</td>\n",
       "      <td>3.569203</td>\n",
       "    </tr>\n",
       "    <tr>\n",
       "      <td>4</td>\n",
       "      <td>Afghanistan</td>\n",
       "      <td>Barley</td>\n",
       "      <td>1965</td>\n",
       "      <td>0.035716</td>\n",
       "      <td>-1.508358</td>\n",
       "      <td>3.998099</td>\n",
       "      <td>3.569203</td>\n",
       "    </tr>\n",
       "  </tbody>\n",
       "</table>\n",
       "</div>"
      ],
      "text/plain": [
       "       Country    Crop  Year  Production quantity     Yield  \\\n",
       "0  Afghanistan  Barley  1961             0.033424 -1.510644   \n",
       "1  Afghanistan  Barley  1962             0.033424 -1.510644   \n",
       "2  Afghanistan  Barley  1963             0.033424 -1.510644   \n",
       "3  Afghanistan  Barley  1964             0.035716 -1.508358   \n",
       "4  Afghanistan  Barley  1965             0.035716 -1.508358   \n",
       "\n",
       "   Annual Population  Total emission  \n",
       "0           3.962341        3.565629  \n",
       "1           3.970879        3.565629  \n",
       "2           3.979694        3.565629  \n",
       "3           3.988772        3.569203  \n",
       "4           3.998099        3.569203  "
      ]
     },
     "execution_count": 26,
     "metadata": {},
     "output_type": "execute_result"
    }
   ],
   "source": [
    "data1.head()"
   ]
  },
  {
   "cell_type": "code",
   "execution_count": 27,
   "metadata": {},
   "outputs": [],
   "source": [
    "en = preprocessing.LabelEncoder()\n",
    "en.fit(data1[\"Country\"])\n",
    "area = en.transform(data1[\"Country\"])\n",
    "data1[\"Country\"] = area\n",
    "\n",
    "en.fit(data1[\"Crop\"])\n",
    "items = en.transform(data1[\"Crop\"])\n",
    "data1[\"Crop\"] = items"
   ]
  },
  {
   "cell_type": "code",
   "execution_count": 28,
   "metadata": {},
   "outputs": [],
   "source": [
    "#np.random.shuffle(data)\n",
    "X = np.array(data1.iloc[:,:5])\n",
    "y = np.array(data1.iloc[:,6])\n",
    "X_train, X_test, y_train, y_test = train_test_split(\n",
    "    X, y, test_size=0.30, random_state=500)"
   ]
  },
  {
   "cell_type": "markdown",
   "metadata": {},
   "source": [
    "# Experiment 2a: MLP Regressor"
   ]
  },
  {
   "cell_type": "code",
   "execution_count": 29,
   "metadata": {},
   "outputs": [
    {
     "data": {
      "text/plain": [
       "MLPRegressor(activation='relu', alpha=0.01, batch_size='auto', beta_1=0.9,\n",
       "             beta_2=0.999, early_stopping=False, epsilon=1e-08,\n",
       "             hidden_layer_sizes=(120, 64, 18, 8, 6), learning_rate='constant',\n",
       "             learning_rate_init=0.001, max_fun=15000, max_iter=100,\n",
       "             momentum=0.9, n_iter_no_change=10, nesterovs_momentum=True,\n",
       "             power_t=0.5, random_state=50, shuffle=True, solver='adam',\n",
       "             tol=0.0001, validation_fraction=0.1, verbose=False,\n",
       "             warm_start=False)"
      ]
     },
     "execution_count": 29,
     "metadata": {},
     "output_type": "execute_result"
    }
   ],
   "source": [
    "regr = MLPRegressor(hidden_layer_sizes=(120,64,18,8,6 ), activation='relu', solver='adam', alpha=0.01, \n",
    "                    batch_size='auto',verbose=False,\n",
    "                    max_iter=100, shuffle=True, random_state=50)\n",
    "regr.fit(X_train, y_train)\n"
   ]
  },
  {
   "cell_type": "code",
   "execution_count": 30,
   "metadata": {},
   "outputs": [
    {
     "name": "stdout",
     "output_type": "stream",
     "text": [
      "Metrics for Exp 2a\n",
      "Test metrics\n",
      "Test MAE: 0.266\n",
      "Test R2 0.988\n",
      "Test MSE: 0.352\n",
      "Test RMSE: 0.124\n",
      "Train metrics\n",
      "Train MAE: 0.269\n",
      "Train R2 0.987\n",
      "Train MSE: 0.358\n",
      "Train RMSE: 0.128\n"
     ]
    }
   ],
   "source": [
    "print(\"Metrics for Exp 2a\")\n",
    "print(\"Test metrics\")\n",
    "MLP_2a_test = regr.predict(X_test)\n",
    "\n",
    "print(\"Test MAE:\", round(mean_absolute_error(y_test, MLP_2a_test),3))\n",
    "print(\"Test R2\", round(r2_score(y_test, MLP_2a_test),3))\n",
    "print(\"Test MSE:\", round(mean_squared_error(y_test, MLP_2a_test, squared= False),3))\n",
    "print(\"Test RMSE:\",round(mean_squared_error(y_test, MLP_2a_test, squared= True),3))\n",
    "\n",
    "print(\"Train metrics\")\n",
    "MLP_2a_train = regr.predict(X_train)\n",
    "\n",
    "print(\"Train MAE:\", round(mean_absolute_error(y_train, MLP_2a_train),3))\n",
    "print(\"Train R2\", round(r2_score(y_train, MLP_2a_train),3))\n",
    "print(\"Train MSE:\", round(mean_squared_error(y_train, MLP_2a_train, squared= False),3))\n",
    "print(\"Train RMSE:\",round(mean_squared_error(y_train, MLP_2a_train, squared= True),3))"
   ]
  },
  {
   "cell_type": "code",
   "execution_count": 31,
   "metadata": {},
   "outputs": [
    {
     "name": "stdout",
     "output_type": "stream",
     "text": [
      "Experiment 2a_MLP_test\n"
     ]
    },
    {
     "data": {
      "text/plain": [
       "<matplotlib.legend.Legend at 0x13c9c5fd0>"
      ]
     },
     "execution_count": 31,
     "metadata": {},
     "output_type": "execute_result"
    },
    {
     "data": {
      "image/png": "[encoded data removed]",
      "text/plain": [
       "<Figure size 432x288 with 1 Axes>"
      ]
     },
     "metadata": {
      "needs_background": "light"
     },
     "output_type": "display_data"
    }
   ],
   "source": [
    "print(\"Experiment 2a_MLP_test\")\n",
    "plt.scatter(X_test[:200,2],y_test[:200],marker='*',color='r',s=50)\n",
    "plt.scatter(X_test[:200,2],MLP_2a_test[:200],color='g',s=50)\n",
    "plt.title('MLP Regressor model Predicted vs Actual')\n",
    "plt.ylabel('Predicted and Actual CO2 emission')\n",
    "plt.xlabel('Year')\n",
    "plt.legend(['Actual', 'Predicted'], loc='upper right')\n",
    "# plt.show()\n",
    "# plt.savefig('Ex:1_Model_MSE.jpg', bbox_inches='tight')"
   ]
  },
  {
   "cell_type": "code",
   "execution_count": 32,
   "metadata": {
    "scrolled": true
   },
   "outputs": [
    {
     "name": "stdout",
     "output_type": "stream",
     "text": [
      "Experiment 2a_MLP_test\n"
     ]
    },
    {
     "data": {
      "text/plain": [
       "Text(-4.8, 2.0, 'R-squared = 0.99')"
      ]
     },
     "execution_count": 32,
     "metadata": {},
     "output_type": "execute_result"
    },
    {
     "data": {
      "image/png": "[encoded data removed]",
      "text/plain": [
       "<Figure size 432x288 with 1 Axes>"
      ]
     },
     "metadata": {
      "needs_background": "light"
     },
     "output_type": "display_data"
    }
   ],
   "source": [
    "print(\"Experiment 2a_MLP_test\")\n",
    "plt.scatter(y_test,MLP_2a_test,s=50,marker='*',color='skyblue')\n",
    "m, b = np.polyfit(y_test, MLP_2a_test,1)\n",
    "plt.plot(y_test, m*y_test + b)\n",
    "plt.title('MLP regressor Model Predicted vs Actual emission')\n",
    "plt.ylabel('Predicted emission')\n",
    "plt.xlabel('Actual emission')\n",
    "plt.text(-4.8, 2.0, 'R-squared = %0.2f' % r2_score(y_test, MLP_2a_test))"
   ]
  },
  {
   "cell_type": "markdown",
   "metadata": {},
   "source": [
    "# Experiment 2b: MLP Regressor"
   ]
  },
  {
   "cell_type": "code",
   "execution_count": 114,
   "metadata": {},
   "outputs": [],
   "source": [
    "df1=data1.copy()\n",
    "cols = list(df1.columns)\n",
    "cols.remove('Country')\n",
    "cols.remove('Crop')\n",
    "cols.remove('Year')\n",
    "df1[cols]\n",
    "df1[cols]=df1[cols].apply(zscore)"
   ]
  },
  {
   "cell_type": "code",
   "execution_count": 115,
   "metadata": {},
   "outputs": [
    {
     "data": {
      "text/html": [
       "<div>\n",
       "<style scoped>\n",
       "    .dataframe tbody tr th:only-of-type {\n",
       "        vertical-align: middle;\n",
       "    }\n",
       "\n",
       "    .dataframe tbody tr th {\n",
       "        vertical-align: top;\n",
       "    }\n",
       "\n",
       "    .dataframe thead th {\n",
       "        text-align: right;\n",
       "    }\n",
       "</style>\n",
       "<table border=\"1\" class=\"dataframe\">\n",
       "  <thead>\n",
       "    <tr style=\"text-align: right;\">\n",
       "      <th></th>\n",
       "      <th>Country</th>\n",
       "      <th>Crop</th>\n",
       "      <th>Year</th>\n",
       "      <th>Production quantity</th>\n",
       "      <th>Yield</th>\n",
       "      <th>Annual Population</th>\n",
       "      <th>Total emission</th>\n",
       "    </tr>\n",
       "  </thead>\n",
       "  <tbody>\n",
       "    <tr>\n",
       "      <td>0</td>\n",
       "      <td>0</td>\n",
       "      <td>0</td>\n",
       "      <td>1961</td>\n",
       "      <td>-0.669602</td>\n",
       "      <td>-0.995993</td>\n",
       "      <td>-0.076500</td>\n",
       "      <td>0.681998</td>\n",
       "    </tr>\n",
       "    <tr>\n",
       "      <td>1</td>\n",
       "      <td>0</td>\n",
       "      <td>0</td>\n",
       "      <td>1962</td>\n",
       "      <td>-0.669602</td>\n",
       "      <td>-0.995993</td>\n",
       "      <td>-0.065645</td>\n",
       "      <td>0.681998</td>\n",
       "    </tr>\n",
       "    <tr>\n",
       "      <td>2</td>\n",
       "      <td>0</td>\n",
       "      <td>0</td>\n",
       "      <td>1963</td>\n",
       "      <td>-0.669602</td>\n",
       "      <td>-0.995993</td>\n",
       "      <td>-0.054435</td>\n",
       "      <td>0.681998</td>\n",
       "    </tr>\n",
       "    <tr>\n",
       "      <td>3</td>\n",
       "      <td>0</td>\n",
       "      <td>0</td>\n",
       "      <td>1964</td>\n",
       "      <td>-0.665675</td>\n",
       "      <td>-0.994445</td>\n",
       "      <td>-0.042892</td>\n",
       "      <td>0.683132</td>\n",
       "    </tr>\n",
       "    <tr>\n",
       "      <td>4</td>\n",
       "      <td>0</td>\n",
       "      <td>0</td>\n",
       "      <td>1965</td>\n",
       "      <td>-0.665675</td>\n",
       "      <td>-0.994445</td>\n",
       "      <td>-0.031032</td>\n",
       "      <td>0.683132</td>\n",
       "    </tr>\n",
       "  </tbody>\n",
       "</table>\n",
       "</div>"
      ],
      "text/plain": [
       "   Country  Crop  Year  Production quantity     Yield  Annual Population  \\\n",
       "0        0     0  1961            -0.669602 -0.995993          -0.076500   \n",
       "1        0     0  1962            -0.669602 -0.995993          -0.065645   \n",
       "2        0     0  1963            -0.669602 -0.995993          -0.054435   \n",
       "3        0     0  1964            -0.665675 -0.994445          -0.042892   \n",
       "4        0     0  1965            -0.665675 -0.994445          -0.031032   \n",
       "\n",
       "   Total emission  \n",
       "0        0.681998  \n",
       "1        0.681998  \n",
       "2        0.681998  \n",
       "3        0.683132  \n",
       "4        0.683132  "
      ]
     },
     "execution_count": 115,
     "metadata": {},
     "output_type": "execute_result"
    }
   ],
   "source": [
    "df1.head()"
   ]
  },
  {
   "cell_type": "code",
   "execution_count": 116,
   "metadata": {},
   "outputs": [],
   "source": [
    "X1 = np.array(df1.iloc[:,:5])\n",
    "y1 = np.array(df1.iloc[:,6])\n",
    "X1_train, X1_test, y1_train, y1_test = train_test_split(\n",
    "    X1, y1, test_size=0.30, random_state=300)"
   ]
  },
  {
   "cell_type": "code",
   "execution_count": 117,
   "metadata": {},
   "outputs": [
    {
     "data": {
      "text/plain": [
       "MLPRegressor(activation='relu', alpha=0.01, batch_size='auto', beta_1=0.9,\n",
       "             beta_2=0.999, early_stopping=False, epsilon=1e-08,\n",
       "             hidden_layer_sizes=(120, 64, 18, 8, 6), learning_rate='constant',\n",
       "             learning_rate_init=0.001, max_fun=15000, max_iter=100,\n",
       "             momentum=0.9, n_iter_no_change=10, nesterovs_momentum=True,\n",
       "             power_t=0.5, random_state=50, shuffle=True, solver='adam',\n",
       "             tol=0.0001, validation_fraction=0.1, verbose=False,\n",
       "             warm_start=False)"
      ]
     },
     "execution_count": 117,
     "metadata": {},
     "output_type": "execute_result"
    }
   ],
   "source": [
    "regr = MLPRegressor(hidden_layer_sizes=(120,64,18,8,6 ), activation='relu', solver='adam', alpha=0.01, \n",
    "                    batch_size='auto',verbose=False,\n",
    "                    max_iter=100, shuffle=True, random_state=50)\n",
    "regr.fit(X1_train, y1_train)\n"
   ]
  },
  {
   "cell_type": "code",
   "execution_count": 119,
   "metadata": {},
   "outputs": [
    {
     "name": "stdout",
     "output_type": "stream",
     "text": [
      "Test metrics 2b\n",
      "Test MAE: 0.155\n",
      "Test R2 0.96\n",
      "Test MSE: 0.2\n",
      "Test RMSE: 0.04\n",
      "Train metrics\n",
      "Train MAE: 0.153\n",
      "Train R2 0.96\n",
      "Train MSE: 0.199\n",
      "Train RMSE: 0.04\n"
     ]
    }
   ],
   "source": [
    "print(\"Test metrics 2b\")\n",
    "MLP_2b_test = regr.predict(X1_test)\n",
    "\n",
    "print(\"Test MAE:\", round(mean_absolute_error(y1_test, MLP_2b_test),3))\n",
    "print(\"Test R2\", round(r2_score(y1_test, MLP_2b_test),3))\n",
    "print(\"Test MSE:\", round(mean_squared_error(y1_test, MLP_2b_test, squared= False),3))\n",
    "print(\"Test RMSE:\",round(mean_squared_error(y1_test, MLP_2b_test, squared= True),3))\n",
    "\n",
    "print(\"Train metrics\")\n",
    "MLP_2b_train = regr.predict(X1_train)\n",
    "\n",
    "print(\"Train MAE:\", round(mean_absolute_error(y1_train, MLP_2b_train),3))\n",
    "print(\"Train R2\", round(r2_score(y1_train, MLP_2b_train),3))\n",
    "print(\"Train MSE:\", round(mean_squared_error(y1_train, MLP_2b_train, squared= False),3))\n",
    "print(\"Train RMSE:\",round(mean_squared_error(y1_train, MLP_2b_train, squared= True),3))"
   ]
  },
  {
   "cell_type": "code",
   "execution_count": 120,
   "metadata": {},
   "outputs": [
    {
     "name": "stdout",
     "output_type": "stream",
     "text": [
      "MLP_Experiment 2b_Test\n"
     ]
    },
    {
     "data": {
      "text/plain": [
       "<matplotlib.legend.Legend at 0x150be78d0>"
      ]
     },
     "execution_count": 120,
     "metadata": {},
     "output_type": "execute_result"
    },
    {
     "data": {
      "image/png": "[encoded data removed]",
      "text/plain": [
       "<Figure size 432x288 with 1 Axes>"
      ]
     },
     "metadata": {
      "needs_background": "light"
     },
     "output_type": "display_data"
    }
   ],
   "source": [
    "print(\"MLP_Experiment 2b_Test\")\n",
    "plt.scatter(X1_test[:200,2],y1_test[:200],marker='*',color='r',s=50)\n",
    "plt.scatter(X1_test[:200,2],MLP_2b_test[:200],color='g',s=50)\n",
    "plt.title('MLP Regressor model Predicted vs Actual')\n",
    "plt.ylabel('Predicted and Actual CO2 emission')\n",
    "plt.xlabel('Year')\n",
    "plt.legend(['Actual', 'Predicted'], loc='upper right')\n",
    "# plt.show()\n",
    "# plt.savefig('Ex:1_Model_MSE.jpg', bbox_inches='tight')"
   ]
  },
  {
   "cell_type": "code",
   "execution_count": 122,
   "metadata": {
    "scrolled": true
   },
   "outputs": [
    {
     "name": "stdout",
     "output_type": "stream",
     "text": [
      "MLP Experiment 2b\n"
     ]
    },
    {
     "data": {
      "text/plain": [
       "Text(-2.0, 2.0, 'R-squared = 0.96')"
      ]
     },
     "execution_count": 122,
     "metadata": {},
     "output_type": "execute_result"
    },
    {
     "data": {
      "image/png": "[encoded data removed]",
      "text/plain": [
       "<Figure size 432x288 with 1 Axes>"
      ]
     },
     "metadata": {
      "needs_background": "light"
     },
     "output_type": "display_data"
    }
   ],
   "source": [
    "print(\"MLP Experiment 2b_test\")\n",
    "plt.scatter(y1_test,MLP_2b_test,s=50,marker='*',color='skyblue')\n",
    "m, b = np.polyfit(y1_test, MLP_2b_test,1)\n",
    "plt.plot(y1_test, m*y1_test + b)\n",
    "plt.title('MLP regressor Model Predicted vs Actual emission')\n",
    "plt.ylabel('Predicted emission')\n",
    "plt.xlabel('Actual emission')\n",
    "plt.text(-2.0, 2.0, 'R-squared = %0.2f' % r2_score(y1_test, MLP_2b_test))"
   ]
  }
 ],
 "metadata": {
  "kernelspec": {
   "display_name": "Python 3",
   "language": "python",
   "name": "python3"
  },
  "language_info": {
   "codemirror_mode": {
    "name": "ipython",
    "version": 3
   },
   "file_extension": ".py",
   "mimetype": "text/x-python",
   "name": "python",
   "nbconvert_exporter": "python",
   "pygments_lexer": "ipython3",
   "version": "3.7.4"
  }
 },
 "nbformat": 4,
 "nbformat_minor": 2
}
