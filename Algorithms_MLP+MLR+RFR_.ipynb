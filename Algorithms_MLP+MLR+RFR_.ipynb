{
 "cells": [
  {
   "cell_type": "code",
   "execution_count": 54,
   "metadata": {},
   "outputs": [],
   "source": [
    "import pandas as pd\n",
    "import numpy as np\n",
    "import random\n",
    "import sklearn\n",
    "from sklearn.model_selection import *\n",
    "from sklearn import preprocessing\n",
    "from sklearn.neural_network import MLPRegressor\n",
    "from sklearn.model_selection import train_test_split\n",
    "from sklearn.ensemble import RandomForestRegressor\n",
    "from sklearn.svm import SVR\n",
    "from sklearn.metrics import mean_squared_error\n",
    "#Metrics\n",
    "from sklearn.metrics import mean_absolute_error\n",
    "from sklearn.metrics import r2_score\n",
    "from sklearn.metrics import mean_squared_error\n",
    "\n",
    "import matplotlib.pyplot as plt\n",
    "import seaborn as sns\n",
    "import scipy.stats as stats\n",
    "from scipy.stats import shapiro as shp\n",
    "from scipy.stats import pearsonr\n",
    "from numpy import cov\n",
    "import keras\n",
    "from keras.layers import Activation, Dense, Dropout, Flatten,MaxPooling1D\n",
    "from keras.models import Sequential\n",
    "#from keras.layers import GaussianNoise\n",
    "from keras import optimizers\n",
    "import warnings\n",
    "warnings.filterwarnings('ignore')\n",
    "from scipy import stats as st\n",
    "import datetime\n",
    "import tensorflow as tf\n",
    "import math\n",
    "\n",
    "from scipy.stats import zscore\n",
    "from numpy import power\n",
    "from numpy import sqrt\n",
    "from numpy import mean\n",
    "from numpy import std\n",
    "from numpy import sum \n",
    "from sklearn.linear_model import LinearRegression"
   ]
  },
  {
   "cell_type": "code",
   "execution_count": 448,
   "metadata": {},
   "outputs": [],
   "source": [
    "data = pd.read_csv(\"emission.csv\")"
   ]
  },
  {
   "cell_type": "code",
   "execution_count": 456,
   "metadata": {},
   "outputs": [
    {
     "data": {
      "text/html": [
       "<div>\n",
       "<style scoped>\n",
       "    .dataframe tbody tr th:only-of-type {\n",
       "        vertical-align: middle;\n",
       "    }\n",
       "\n",
       "    .dataframe tbody tr th {\n",
       "        vertical-align: top;\n",
       "    }\n",
       "\n",
       "    .dataframe thead th {\n",
       "        text-align: right;\n",
       "    }\n",
       "</style>\n",
       "<table border=\"1\" class=\"dataframe\">\n",
       "  <thead>\n",
       "    <tr style=\"text-align: right;\">\n",
       "      <th></th>\n",
       "      <th>Country</th>\n",
       "      <th>Crop</th>\n",
       "      <th>Year</th>\n",
       "      <th>Area harvested</th>\n",
       "      <th>Production quantity</th>\n",
       "      <th>Yield</th>\n",
       "      <th>Annual Population</th>\n",
       "      <th>Total emission</th>\n",
       "    </tr>\n",
       "  </thead>\n",
       "  <tbody>\n",
       "    <tr>\n",
       "      <td>11573</td>\n",
       "      <td>China</td>\n",
       "      <td>Barley</td>\n",
       "      <td>2017</td>\n",
       "      <td>477723.0</td>\n",
       "      <td>1897318.0</td>\n",
       "      <td>39716.0</td>\n",
       "      <td>1452625.244</td>\n",
       "      <td>135.3975</td>\n",
       "    </tr>\n",
       "    <tr>\n",
       "      <td>11630</td>\n",
       "      <td>China</td>\n",
       "      <td>Beans, dry</td>\n",
       "      <td>2017</td>\n",
       "      <td>759683.0</td>\n",
       "      <td>1333855.0</td>\n",
       "      <td>17558.0</td>\n",
       "      <td>1452625.244</td>\n",
       "      <td>76.6200</td>\n",
       "    </tr>\n",
       "    <tr>\n",
       "      <td>11687</td>\n",
       "      <td>China</td>\n",
       "      <td>Maize</td>\n",
       "      <td>2017</td>\n",
       "      <td>42429378.0</td>\n",
       "      <td>259256299.0</td>\n",
       "      <td>61103.0</td>\n",
       "      <td>1452625.244</td>\n",
       "      <td>15920.7546</td>\n",
       "    </tr>\n",
       "    <tr>\n",
       "      <td>11744</td>\n",
       "      <td>China</td>\n",
       "      <td>Millet</td>\n",
       "      <td>2017</td>\n",
       "      <td>813406.0</td>\n",
       "      <td>1997272.0</td>\n",
       "      <td>24554.0</td>\n",
       "      <td>1452625.244</td>\n",
       "      <td>135.6799</td>\n",
       "    </tr>\n",
       "    <tr>\n",
       "      <td>11801</td>\n",
       "      <td>China</td>\n",
       "      <td>Oats</td>\n",
       "      <td>2017</td>\n",
       "      <td>366414.0</td>\n",
       "      <td>1281016.0</td>\n",
       "      <td>34961.0</td>\n",
       "      <td>1452625.244</td>\n",
       "      <td>79.7015</td>\n",
       "    </tr>\n",
       "    <tr>\n",
       "      <td>11858</td>\n",
       "      <td>China</td>\n",
       "      <td>Potatoes</td>\n",
       "      <td>2017</td>\n",
       "      <td>4862361.0</td>\n",
       "      <td>88536429.0</td>\n",
       "      <td>182085.0</td>\n",
       "      <td>1452625.244</td>\n",
       "      <td>1328.4097</td>\n",
       "    </tr>\n",
       "    <tr>\n",
       "      <td>11915</td>\n",
       "      <td>China</td>\n",
       "      <td>Rice, paddy</td>\n",
       "      <td>2017</td>\n",
       "      <td>31021677.0</td>\n",
       "      <td>214430049.0</td>\n",
       "      <td>69123.0</td>\n",
       "      <td>1452625.244</td>\n",
       "      <td>14785.4281</td>\n",
       "    </tr>\n",
       "    <tr>\n",
       "      <td>11972</td>\n",
       "      <td>China</td>\n",
       "      <td>Rye</td>\n",
       "      <td>2017</td>\n",
       "      <td>351409.0</td>\n",
       "      <td>1332257.0</td>\n",
       "      <td>37912.0</td>\n",
       "      <td>1452625.244</td>\n",
       "      <td>83.5919</td>\n",
       "    </tr>\n",
       "    <tr>\n",
       "      <td>12029</td>\n",
       "      <td>China</td>\n",
       "      <td>Sorghum</td>\n",
       "      <td>2017</td>\n",
       "      <td>623954.0</td>\n",
       "      <td>2797235.0</td>\n",
       "      <td>44831.0</td>\n",
       "      <td>1452625.244</td>\n",
       "      <td>155.8482</td>\n",
       "    </tr>\n",
       "    <tr>\n",
       "      <td>12086</td>\n",
       "      <td>China</td>\n",
       "      <td>Soybeans</td>\n",
       "      <td>2017</td>\n",
       "      <td>7352883.0</td>\n",
       "      <td>13133634.0</td>\n",
       "      <td>17862.0</td>\n",
       "      <td>1452625.244</td>\n",
       "      <td>1199.8376</td>\n",
       "    </tr>\n",
       "    <tr>\n",
       "      <td>12143</td>\n",
       "      <td>China</td>\n",
       "      <td>Wheat</td>\n",
       "      <td>2017</td>\n",
       "      <td>24510490.0</td>\n",
       "      <td>134340746.0</td>\n",
       "      <td>54809.0</td>\n",
       "      <td>1452625.244</td>\n",
       "      <td>10736.0192</td>\n",
       "    </tr>\n",
       "    <tr>\n",
       "      <td>62139</td>\n",
       "      <td>China</td>\n",
       "      <td>Sugar cane</td>\n",
       "      <td>2017</td>\n",
       "      <td>1379242.0</td>\n",
       "      <td>104905705.0</td>\n",
       "      <td>760604.0</td>\n",
       "      <td>1452625.244</td>\n",
       "      <td>70.1773</td>\n",
       "    </tr>\n",
       "  </tbody>\n",
       "</table>\n",
       "</div>"
      ],
      "text/plain": [
       "      Country         Crop  Year  Area harvested  Production quantity  \\\n",
       "11573   China       Barley  2017        477723.0            1897318.0   \n",
       "11630   China   Beans, dry  2017        759683.0            1333855.0   \n",
       "11687   China        Maize  2017      42429378.0          259256299.0   \n",
       "11744   China       Millet  2017        813406.0            1997272.0   \n",
       "11801   China         Oats  2017        366414.0            1281016.0   \n",
       "11858   China     Potatoes  2017       4862361.0           88536429.0   \n",
       "11915   China  Rice, paddy  2017      31021677.0          214430049.0   \n",
       "11972   China          Rye  2017        351409.0            1332257.0   \n",
       "12029   China      Sorghum  2017        623954.0            2797235.0   \n",
       "12086   China     Soybeans  2017       7352883.0           13133634.0   \n",
       "12143   China        Wheat  2017      24510490.0          134340746.0   \n",
       "62139   China   Sugar cane  2017       1379242.0          104905705.0   \n",
       "\n",
       "          Yield  Annual Population  Total emission  \n",
       "11573   39716.0        1452625.244        135.3975  \n",
       "11630   17558.0        1452625.244         76.6200  \n",
       "11687   61103.0        1452625.244      15920.7546  \n",
       "11744   24554.0        1452625.244        135.6799  \n",
       "11801   34961.0        1452625.244         79.7015  \n",
       "11858  182085.0        1452625.244       1328.4097  \n",
       "11915   69123.0        1452625.244      14785.4281  \n",
       "11972   37912.0        1452625.244         83.5919  \n",
       "12029   44831.0        1452625.244        155.8482  \n",
       "12086   17862.0        1452625.244       1199.8376  \n",
       "12143   54809.0        1452625.244      10736.0192  \n",
       "62139  760604.0        1452625.244         70.1773  "
      ]
     },
     "execution_count": 456,
     "metadata": {},
     "output_type": "execute_result"
    }
   ],
   "source": [
    "data.loc[(data['Year']==2017)&(data['Country']=='China')]"
   ]
  },
  {
   "cell_type": "code",
   "execution_count": 447,
   "metadata": {},
   "outputs": [
    {
     "data": {
      "text/html": [
       "<div>\n",
       "<style scoped>\n",
       "    .dataframe tbody tr th:only-of-type {\n",
       "        vertical-align: middle;\n",
       "    }\n",
       "\n",
       "    .dataframe tbody tr th {\n",
       "        vertical-align: top;\n",
       "    }\n",
       "\n",
       "    .dataframe thead th {\n",
       "        text-align: right;\n",
       "    }\n",
       "</style>\n",
       "<table border=\"1\" class=\"dataframe\">\n",
       "  <thead>\n",
       "    <tr style=\"text-align: right;\">\n",
       "      <th></th>\n",
       "      <th>Country</th>\n",
       "      <th>Crop</th>\n",
       "      <th>Year</th>\n",
       "      <th>Area harvested</th>\n",
       "      <th>Production quantity</th>\n",
       "      <th>Yield</th>\n",
       "      <th>Annual Population</th>\n",
       "      <th>Total emission</th>\n",
       "    </tr>\n",
       "  </thead>\n",
       "  <tbody>\n",
       "  </tbody>\n",
       "</table>\n",
       "</div>"
      ],
      "text/plain": [
       "Empty DataFrame\n",
       "Columns: [Country, Crop, Year, Area harvested, Production quantity, Yield, Annual Population, Total emission]\n",
       "Index: []"
      ]
     },
     "execution_count": 447,
     "metadata": {},
     "output_type": "execute_result"
    }
   ],
   "source": [
    "data.loc[(data['Country']=='China')&(data['Crop']=='Wheat')&(data['Year']=='2017')]"
   ]
  },
  {
   "cell_type": "code",
   "execution_count": 56,
   "metadata": {},
   "outputs": [],
   "source": [
    "i = data[(data['Area harvested'] == 0) |(data['Production quantity'] == 0)].index\n",
    "data=data.drop(i)"
   ]
  },
  {
   "cell_type": "code",
   "execution_count": null,
   "metadata": {},
   "outputs": [],
   "source": [
    "#data.isnull().sum()"
   ]
  },
  {
   "cell_type": "code",
   "execution_count": 6,
   "metadata": {},
   "outputs": [
    {
     "data": {
      "text/html": [
       "<div>\n",
       "<style scoped>\n",
       "    .dataframe tbody tr th:only-of-type {\n",
       "        vertical-align: middle;\n",
       "    }\n",
       "\n",
       "    .dataframe tbody tr th {\n",
       "        vertical-align: top;\n",
       "    }\n",
       "\n",
       "    .dataframe thead th {\n",
       "        text-align: right;\n",
       "    }\n",
       "</style>\n",
       "<table border=\"1\" class=\"dataframe\">\n",
       "  <thead>\n",
       "    <tr style=\"text-align: right;\">\n",
       "      <th></th>\n",
       "      <th>Country</th>\n",
       "      <th>Crop</th>\n",
       "      <th>Year</th>\n",
       "      <th>Area harvested</th>\n",
       "      <th>Production quantity</th>\n",
       "      <th>Yield</th>\n",
       "      <th>Annual Population</th>\n",
       "      <th>Total emission</th>\n",
       "    </tr>\n",
       "  </thead>\n",
       "  <tbody>\n",
       "    <tr>\n",
       "      <td>0</td>\n",
       "      <td>Afghanistan</td>\n",
       "      <td>Barley</td>\n",
       "      <td>1961</td>\n",
       "      <td>350000.0</td>\n",
       "      <td>378000.0</td>\n",
       "      <td>10800.0</td>\n",
       "      <td>9169.410</td>\n",
       "      <td>35.3617</td>\n",
       "    </tr>\n",
       "    <tr>\n",
       "      <td>1</td>\n",
       "      <td>Afghanistan</td>\n",
       "      <td>Barley</td>\n",
       "      <td>1962</td>\n",
       "      <td>350000.0</td>\n",
       "      <td>378000.0</td>\n",
       "      <td>10800.0</td>\n",
       "      <td>9351.441</td>\n",
       "      <td>35.3617</td>\n",
       "    </tr>\n",
       "  </tbody>\n",
       "</table>\n",
       "</div>"
      ],
      "text/plain": [
       "       Country    Crop  Year  Area harvested  Production quantity    Yield  \\\n",
       "0  Afghanistan  Barley  1961        350000.0             378000.0  10800.0   \n",
       "1  Afghanistan  Barley  1962        350000.0             378000.0  10800.0   \n",
       "\n",
       "   Annual Population  Total emission  \n",
       "0           9169.410         35.3617  \n",
       "1           9351.441         35.3617  "
      ]
     },
     "execution_count": 6,
     "metadata": {},
     "output_type": "execute_result"
    }
   ],
   "source": [
    "data.head(2)"
   ]
  },
  {
   "cell_type": "markdown",
   "metadata": {},
   "source": [
    "# Experiment 1: Dropping AH"
   ]
  },
  {
   "cell_type": "markdown",
   "metadata": {},
   "source": [
    "# Experiment 1a"
   ]
  },
  {
   "cell_type": "code",
   "execution_count": 57,
   "metadata": {},
   "outputs": [
    {
     "data": {
      "text/html": [
       "<div>\n",
       "<style scoped>\n",
       "    .dataframe tbody tr th:only-of-type {\n",
       "        vertical-align: middle;\n",
       "    }\n",
       "\n",
       "    .dataframe tbody tr th {\n",
       "        vertical-align: top;\n",
       "    }\n",
       "\n",
       "    .dataframe thead th {\n",
       "        text-align: right;\n",
       "    }\n",
       "</style>\n",
       "<table border=\"1\" class=\"dataframe\">\n",
       "  <thead>\n",
       "    <tr style=\"text-align: right;\">\n",
       "      <th></th>\n",
       "      <th>Country</th>\n",
       "      <th>Crop</th>\n",
       "      <th>Year</th>\n",
       "      <th>Yield</th>\n",
       "      <th>Annual Population</th>\n",
       "      <th>Total emission</th>\n",
       "    </tr>\n",
       "  </thead>\n",
       "  <tbody>\n",
       "    <tr>\n",
       "      <td>0</td>\n",
       "      <td>Afghanistan</td>\n",
       "      <td>Barley</td>\n",
       "      <td>1961</td>\n",
       "      <td>10800.0</td>\n",
       "      <td>9169.410</td>\n",
       "      <td>35.3617</td>\n",
       "    </tr>\n",
       "    <tr>\n",
       "      <td>1</td>\n",
       "      <td>Afghanistan</td>\n",
       "      <td>Barley</td>\n",
       "      <td>1962</td>\n",
       "      <td>10800.0</td>\n",
       "      <td>9351.441</td>\n",
       "      <td>35.3617</td>\n",
       "    </tr>\n",
       "    <tr>\n",
       "      <td>2</td>\n",
       "      <td>Afghanistan</td>\n",
       "      <td>Barley</td>\n",
       "      <td>1963</td>\n",
       "      <td>10800.0</td>\n",
       "      <td>9543.205</td>\n",
       "      <td>35.3617</td>\n",
       "    </tr>\n",
       "    <tr>\n",
       "      <td>3</td>\n",
       "      <td>Afghanistan</td>\n",
       "      <td>Barley</td>\n",
       "      <td>1964</td>\n",
       "      <td>10857.0</td>\n",
       "      <td>9744.781</td>\n",
       "      <td>35.4883</td>\n",
       "    </tr>\n",
       "    <tr>\n",
       "      <td>4</td>\n",
       "      <td>Afghanistan</td>\n",
       "      <td>Barley</td>\n",
       "      <td>1965</td>\n",
       "      <td>10857.0</td>\n",
       "      <td>9956.320</td>\n",
       "      <td>35.4883</td>\n",
       "    </tr>\n",
       "  </tbody>\n",
       "</table>\n",
       "</div>"
      ],
      "text/plain": [
       "       Country    Crop  Year    Yield  Annual Population  Total emission\n",
       "0  Afghanistan  Barley  1961  10800.0           9169.410         35.3617\n",
       "1  Afghanistan  Barley  1962  10800.0           9351.441         35.3617\n",
       "2  Afghanistan  Barley  1963  10800.0           9543.205         35.3617\n",
       "3  Afghanistan  Barley  1964  10857.0           9744.781         35.4883\n",
       "4  Afghanistan  Barley  1965  10857.0           9956.320         35.4883"
      ]
     },
     "execution_count": 57,
     "metadata": {},
     "output_type": "execute_result"
    }
   ],
   "source": [
    "data.drop(['Area harvested','Production quantity'],inplace=True,axis=1)\n",
    "data.head()"
   ]
  },
  {
   "cell_type": "code",
   "execution_count": 58,
   "metadata": {},
   "outputs": [],
   "source": [
    "area_en = preprocessing.LabelEncoder()\n",
    "area_en.fit(data[\"Country\"])\n",
    "area = area_en.transform(data[\"Country\"])\n",
    "data[\"Country\"] = area\n",
    "\n",
    "item_en = preprocessing.LabelEncoder()\n",
    "item_en.fit(data[\"Crop\"])\n",
    "items = item_en.transform(data[\"Crop\"])\n",
    "data[\"Crop\"] = items\n",
    "\n",
    "#data[\"Production quantity\"] = np.log10(data[\"Production quantity\"])\n",
    "data[\"Yield\"] = np.log10(data[\"Yield\"])\n",
    "data[\"Annual Population\"] = np.log10(data[\"Annual Population\"])\n",
    "data[\"Total emission\"] = np.log10(data[\"Total emission\"])"
   ]
  },
  {
   "cell_type": "code",
   "execution_count": 59,
   "metadata": {},
   "outputs": [
    {
     "name": "stdout",
     "output_type": "stream",
     "text": [
      "(0.9434827566146851, 0.0)\n",
      "(0.9825036525726318, 0.0)\n",
      "(0.9952389597892761, 2.5260983208629185e-39)\n"
     ]
    }
   ],
   "source": [
    "print (shp(data[\"Yield\"]))\n",
    "print (shp(data[\"Annual Population\"]))\n",
    "print (shp(data[\"Total emission\"]))\n"
   ]
  },
  {
   "cell_type": "code",
   "execution_count": 60,
   "metadata": {},
   "outputs": [
    {
     "data": {
      "text/plain": [
       "0"
      ]
     },
     "execution_count": 60,
     "metadata": {},
     "output_type": "execute_result"
    }
   ],
   "source": [
    "data['Total emission'].isna().sum()"
   ]
  },
  {
   "cell_type": "code",
   "execution_count": 22,
   "metadata": {},
   "outputs": [
    {
     "data": {
      "text/plain": [
       "array(['Afghanistan', 'Albania', 'Algeria', 'Angola',\n",
       "       'Antigua and Barbuda', 'Argentina', 'Armenia', 'Australia',\n",
       "       'Austria', 'Azerbaijan', 'Bahamas', 'Bahrain', 'Bangladesh',\n",
       "       'Barbados', 'Belarus', 'Belgium', 'Belgium-Luxembourg', 'Belize',\n",
       "       'Benin', 'Bermuda', 'Bhutan', 'Bolivia (Plurinational State of)',\n",
       "       'Bosnia and Herzegovina', 'Botswana', 'Brazil',\n",
       "       'Brunei Darussalam', 'Bulgaria', 'Burkina Faso', 'Burundi',\n",
       "       'Cabo Verde', 'Cambodia', 'Cameroon', 'Canada',\n",
       "       'Central African Republic', 'Chad', 'Chile', 'China',\n",
       "       'China, Hong Kong SAR', 'China, Taiwan Province of',\n",
       "       'China, mainland', 'Colombia', 'Comoros', 'Congo', 'Costa Rica',\n",
       "       'Croatia', 'Cuba', 'Cyprus', 'Czechia', 'Czechoslovakia',\n",
       "       \"Democratic People's Republic of Korea\",\n",
       "       'Democratic Republic of the Congo', 'Denmark', 'Djibouti',\n",
       "       'Dominica', 'Dominican Republic', 'Ecuador', 'Egypt',\n",
       "       'El Salvador', 'Eritrea', 'Estonia', 'Eswatini', 'Ethiopia',\n",
       "       'Ethiopia PDR', 'Faroe Islands', 'Fiji', 'Finland', 'France',\n",
       "       'French Guiana', 'French Polynesia', 'Gabon', 'Gambia', 'Georgia',\n",
       "       'Germany', 'Ghana', 'Greece', 'Grenada', 'Guadeloupe', 'Guam',\n",
       "       'Guatemala', 'Guinea', 'Guinea-Bissau', 'Guyana', 'Haiti',\n",
       "       'Honduras', 'Hungary', 'Iceland', 'India', 'Indonesia',\n",
       "       'Iran (Islamic Republic of)', 'Iraq', 'Ireland', 'Israel', 'Italy',\n",
       "       'Jamaica', 'Japan', 'Jordan', 'Kazakhstan', 'Kenya', 'Kuwait',\n",
       "       'Kyrgyzstan', \"Lao People's Democratic Republic\", 'Latvia',\n",
       "       'Lebanon', 'Lesotho', 'Liberia', 'Libya', 'Lithuania',\n",
       "       'Luxembourg', 'Madagascar', 'Malawi', 'Malaysia', 'Maldives',\n",
       "       'Mali', 'Malta', 'Mauritania', 'Mauritius', 'Mexico',\n",
       "       'Micronesia (Federated States of)', 'Mongolia', 'Montenegro',\n",
       "       'Montserrat', 'Morocco', 'Mozambique', 'Myanmar', 'Namibia',\n",
       "       'Nepal', 'Netherlands', 'New Caledonia', 'New Zealand',\n",
       "       'Nicaragua', 'Niger', 'Nigeria', 'North Macedonia', 'Norway',\n",
       "       'Oman', 'Pacific Islands Trust Territory', 'Pakistan', 'Palestine',\n",
       "       'Panama', 'Papua New Guinea', 'Paraguay', 'Peru', 'Philippines',\n",
       "       'Poland', 'Portugal', 'Puerto Rico', 'Qatar', 'Republic of Korea',\n",
       "       'Republic of Moldova', 'Romania', 'Russian Federation', 'Rwanda',\n",
       "       'Saint Kitts and Nevis', 'Saint Lucia',\n",
       "       'Saint Vincent and the Grenadines', 'Sao Tome and Principe',\n",
       "       'Saudi Arabia', 'Senegal', 'Serbia', 'Serbia and Montenegro',\n",
       "       'Sierra Leone', 'Slovakia', 'Slovenia', 'Solomon Islands',\n",
       "       'Somalia', 'South Africa', 'South Sudan', 'Spain', 'Sri Lanka',\n",
       "       'Sudan', 'Sudan (former)', 'Suriname', 'Sweden', 'Switzerland',\n",
       "       'Syrian Arab Republic', 'Tajikistan', 'Thailand', 'Timor-Leste',\n",
       "       'Togo', 'Trinidad and Tobago', 'Tunisia', 'Turkey', 'Turkmenistan',\n",
       "       'USSR', 'Uganda', 'Ukraine', 'United Arab Emirates',\n",
       "       'United Kingdom', 'United Republic of Tanzania',\n",
       "       'United States of America', 'Uruguay', 'Uzbekistan', 'Vanuatu',\n",
       "       'Venezuela (Bolivarian Republic of)', 'Viet Nam', 'Western Sahara',\n",
       "       'Yemen', 'Yugoslav SFR', 'Zambia', 'Zimbabwe'], dtype=object)"
      ]
     },
     "execution_count": 22,
     "metadata": {},
     "output_type": "execute_result"
    }
   ],
   "source": [
    "area_en.classes_"
   ]
  },
  {
   "cell_type": "code",
   "execution_count": 24,
   "metadata": {},
   "outputs": [
    {
     "data": {
      "text/plain": [
       "array(['Afghanistan', 'Afghanistan', 'Afghanistan', ..., 'Zimbabwe',\n",
       "       'Zimbabwe', 'Zimbabwe'], dtype=object)"
      ]
     },
     "execution_count": 24,
     "metadata": {},
     "output_type": "execute_result"
    }
   ],
   "source": [
    "#area_en.inverse_transform(data[\"Country\"])"
   ]
  },
  {
   "cell_type": "code",
   "execution_count": 61,
   "metadata": {},
   "outputs": [],
   "source": [
    "#np.random.shuffle(data)\n",
    "X = np.array(data.iloc[:,:5])\n",
    "y = np.array(data.iloc[:,5])\n",
    "X_train, X_test, y_train, y_test = train_test_split(\n",
    "    X, y, test_size=0.30, random_state=500)"
   ]
  },
  {
   "cell_type": "markdown",
   "metadata": {},
   "source": [
    "# MLP starts"
   ]
  },
  {
   "cell_type": "code",
   "execution_count": 10,
   "metadata": {},
   "outputs": [
    {
     "data": {
      "text/plain": [
       "MLPRegressor(activation='relu', alpha=0.01, batch_size='auto', beta_1=0.9,\n",
       "             beta_2=0.999, early_stopping=False, epsilon=1e-08,\n",
       "             hidden_layer_sizes=(120, 64, 38, 6), learning_rate='constant',\n",
       "             learning_rate_init=0.001, max_fun=15000, max_iter=100,\n",
       "             momentum=0.9, n_iter_no_change=10, nesterovs_momentum=True,\n",
       "             power_t=0.5, random_state=50, shuffle=True, solver='adam',\n",
       "             tol=0.0001, validation_fraction=0.1, verbose=False,\n",
       "             warm_start=False)"
      ]
     },
     "execution_count": 10,
     "metadata": {},
     "output_type": "execute_result"
    }
   ],
   "source": [
    "regr = MLPRegressor(hidden_layer_sizes=(120,64,38,6 ), activation='relu', solver='adam', alpha=0.01, \n",
    "                    batch_size='auto',verbose=False,\n",
    "                    max_iter=100, shuffle=True, random_state=50)\n",
    "regr.fit(X_train, y_train)\n"
   ]
  },
  {
   "cell_type": "code",
   "execution_count": null,
   "metadata": {},
   "outputs": [],
   "source": [
    "#MLP_1a_test = regr.predict(X_test)"
   ]
  },
  {
   "cell_type": "code",
   "execution_count": null,
   "metadata": {},
   "outputs": [],
   "source": [
    "# print(MLP_1a_test[0])\n",
    "# print(y_test[0])"
   ]
  },
  {
   "cell_type": "code",
   "execution_count": 11,
   "metadata": {},
   "outputs": [
    {
     "name": "stdout",
     "output_type": "stream",
     "text": [
      "Experiment 1a_MLP\n",
      "Test metrics\n",
      "Test MAE: 0.898\n",
      "Test R2 0.33\n",
      "Test MSE: 1.124\n",
      "Test RMSE: 1.264\n",
      "Train metrics\n",
      "Train MAE: 0.895\n",
      "Train R2 0.332\n",
      "Train MSE: 1.118\n",
      "Train RMSE: 1.249\n"
     ]
    }
   ],
   "source": [
    "print(\"Experiment 1a_MLP\")\n",
    "print(\"Test metrics\")\n",
    "MLP_1a_test = regr.predict(X_test)\n",
    "\n",
    "print(\"Test MAE:\", round(mean_absolute_error(y_test, MLP_1a_test),3))\n",
    "print(\"Test R2\", round(r2_score(y_test, MLP_1a_test),3))\n",
    "print(\"Test MSE:\", round(mean_squared_error(y_test, MLP_1a_test, squared= False),3))\n",
    "print(\"Test RMSE:\",round(mean_squared_error(y_test, MLP_1a_test, squared= True),3))\n",
    "\n",
    "print(\"Train metrics\")\n",
    "MLP_1a_train = regr.predict(X_train)\n",
    "\n",
    "print(\"Train MAE:\", round(mean_absolute_error(y_train, MLP_1a_train),3))\n",
    "print(\"Train R2\", round(r2_score(y_train, MLP_1a_train),3))\n",
    "print(\"Train MSE:\", round(mean_squared_error(y_train, MLP_1a_train, squared= False),3))\n",
    "print(\"Train RMSE:\",round(mean_squared_error(y_train, MLP_1a_train, squared= True),3))"
   ]
  },
  {
   "cell_type": "code",
   "execution_count": 12,
   "metadata": {},
   "outputs": [
    {
     "name": "stdout",
     "output_type": "stream",
     "text": [
      "MLP Experiment 1a_test statistics\n",
      "The mean of the actual labels: 0.61\n",
      "The mean of the predicted labels: 0.634\n",
      "The sd of the actual labels: 1.373\n",
      "The sd of the predicted labels: 0.716\n",
      "MLP Experiment 1a_train statistics\n",
      "The mean of the actual labels: 0.617\n",
      "The mean of the predicted labels: 0.635\n",
      "The sd of the actual labels: 1.367\n",
      "The sd of the predicted labels: 0.718\n"
     ]
    }
   ],
   "source": [
    "print(\"MLP Experiment 1a_test statistics\")\n",
    "print(\"The mean of the actual labels:\",round(np.mean(y_test),3))\n",
    "print(\"The mean of the predicted labels:\",round(np.mean(MLP_1a_test),3))\n",
    "print(\"The sd of the actual labels:\",round(np.std(y_test),3))\n",
    "print(\"The sd of the predicted labels:\",round(np.std(MLP_1a_test),3))\n",
    "      \n",
    "print(\"MLP Experiment 1a_train statistics\")\n",
    "print(\"The mean of the actual labels:\",round(np.mean(y_train),3))\n",
    "print(\"The mean of the predicted labels:\",round(np.mean(MLP_1a_train),3))\n",
    "print(\"The sd of the actual labels:\",round(np.std(y_train),3))\n",
    "print(\"The sd of the predicted labels:\",round(np.std(MLP_1a_train),3))"
   ]
  },
  {
   "cell_type": "code",
   "execution_count": 38,
   "metadata": {},
   "outputs": [
    {
     "data": {
      "text/plain": [
       "19962"
      ]
     },
     "execution_count": 38,
     "metadata": {},
     "output_type": "execute_result"
    }
   ],
   "source": [
    "X_test.shape[0]\n",
    "y_test.shape[0]"
   ]
  },
  {
   "cell_type": "code",
   "execution_count": 25,
   "metadata": {},
   "outputs": [
    {
     "ename": "TypeError",
     "evalue": "only size-1 arrays can be converted to Python scalars",
     "output_type": "error",
     "traceback": [
      "\u001b[0;31m---------------------------------------------------------------------------\u001b[0m",
      "\u001b[0;31mTypeError\u001b[0m                                 Traceback (most recent call last)",
      "\u001b[0;32m<ipython-input-25-73eabf8fd7c7>\u001b[0m in \u001b[0;36m<module>\u001b[0;34m\u001b[0m\n\u001b[1;32m      8\u001b[0m \u001b[0minterval\u001b[0m \u001b[0;34m=\u001b[0m \u001b[0;36m1.96\u001b[0m \u001b[0;34m*\u001b[0m \u001b[0mstdev\u001b[0m\u001b[0;34m\u001b[0m\u001b[0;34m\u001b[0m\u001b[0m\n\u001b[1;32m      9\u001b[0m \u001b[0mlower\u001b[0m\u001b[0;34m,\u001b[0m \u001b[0mupper\u001b[0m \u001b[0;34m=\u001b[0m \u001b[0mMLP_1a_test\u001b[0m \u001b[0;34m-\u001b[0m \u001b[0minterval\u001b[0m\u001b[0;34m,\u001b[0m \u001b[0mMLP_1a_test\u001b[0m \u001b[0;34m+\u001b[0m \u001b[0minterval\u001b[0m\u001b[0;34m\u001b[0m\u001b[0;34m\u001b[0m\u001b[0m\n\u001b[0;32m---> 10\u001b[0;31m \u001b[0mprint\u001b[0m\u001b[0;34m(\u001b[0m\u001b[0;34m'95%% likelihood that the true value is between %.3f and %.3f'\u001b[0m \u001b[0;34m%\u001b[0m \u001b[0;34m(\u001b[0m\u001b[0mlower\u001b[0m\u001b[0;34m,\u001b[0m \u001b[0mupper\u001b[0m\u001b[0;34m)\u001b[0m\u001b[0;34m)\u001b[0m\u001b[0;34m\u001b[0m\u001b[0;34m\u001b[0m\u001b[0m\n\u001b[0m\u001b[1;32m     11\u001b[0m \u001b[0mprint\u001b[0m\u001b[0;34m(\u001b[0m\u001b[0;34m'True value: %.3f'\u001b[0m \u001b[0;34m%\u001b[0m \u001b[0my_out\u001b[0m\u001b[0;34m)\u001b[0m\u001b[0;34m\u001b[0m\u001b[0;34m\u001b[0m\u001b[0m\n\u001b[1;32m     12\u001b[0m \u001b[0;31m# # plot dataset and prediction with interval\u001b[0m\u001b[0;34m\u001b[0m\u001b[0;34m\u001b[0m\u001b[0;34m\u001b[0m\u001b[0m\n",
      "\u001b[0;31mTypeError\u001b[0m: only size-1 arrays can be converted to Python scalars"
     ]
    }
   ],
   "source": [
    "# # estimate stdev of yhat\n",
    "# sum_errs = sum((y_test - MLP_1a_test)**2)\n",
    "# stdev = sqrt(1/(len(y_test)-2) * sum_errs)\n",
    "# print(sum_errs)\n",
    "# print(stdev)\n",
    "# 3\n",
    "# calculate prediction interval\n",
    "interval = 1.96 * stdev\n",
    "lower, upper = MLP_1a_test - interval, MLP_1a_test + interval\n",
    "print('95%% likelihood that the true value is between %.3f and %.3f' % (lower, upper))\n",
    "print('True value: %.3f' % y_out)\n",
    "# # plot dataset and prediction with interval\n",
    "# pyplot.scatter(x, y)\n",
    "# pyplot.plot(x, yhat, color='red')\n",
    "# pyplot.errorbar(x_in, yhat_out, yerr=interval, color='black', fmt='o')\n",
    "# pyplot.show()"
   ]
  },
  {
   "cell_type": "code",
   "execution_count": 14,
   "metadata": {},
   "outputs": [],
   "source": [
    "from sklearn.ensemble import GradientBoostingRegressor\n",
    "# Set lower and upper quantile\n",
    "LOWER_ALPHA = 0.1\n",
    "UPPER_ALPHA = 0.9\n",
    "# Each model has to be separate\n",
    "lower_model = GradientBoostingRegressor(loss=\"quantile\",                   \n",
    "                                        alpha=LOWER_ALPHA)\n",
    "# The mid model will use the default loss\n",
    "mid_model = GradientBoostingRegressor(loss=\"ls\")\n",
    "upper_model = GradientBoostingRegressor(loss=\"quantile\",\n",
    "                                        alpha=UPPER_ALPHA)"
   ]
  },
  {
   "cell_type": "code",
   "execution_count": 15,
   "metadata": {},
   "outputs": [],
   "source": [
    "_ = lower_model.fit(X_train, y_train)\n",
    "_ = mid_model.fit(X_train, y_train)\n",
    "_ = upper_model.fit(X_train, y_train)"
   ]
  },
  {
   "cell_type": "code",
   "execution_count": 39,
   "metadata": {},
   "outputs": [
    {
     "data": {
      "text/html": [
       "<div>\n",
       "<style scoped>\n",
       "    .dataframe tbody tr th:only-of-type {\n",
       "        vertical-align: middle;\n",
       "    }\n",
       "\n",
       "    .dataframe tbody tr th {\n",
       "        vertical-align: top;\n",
       "    }\n",
       "\n",
       "    .dataframe thead th {\n",
       "        text-align: right;\n",
       "    }\n",
       "</style>\n",
       "<table border=\"1\" class=\"dataframe\">\n",
       "  <thead>\n",
       "    <tr style=\"text-align: right;\">\n",
       "      <th></th>\n",
       "      <th>0</th>\n",
       "      <th>lower</th>\n",
       "      <th>mid</th>\n",
       "      <th>upper</th>\n",
       "      <th>Actual</th>\n",
       "    </tr>\n",
       "  </thead>\n",
       "  <tbody>\n",
       "    <tr>\n",
       "      <td>19957</td>\n",
       "      <td>1.572463</td>\n",
       "      <td>-1.198139</td>\n",
       "      <td>0.172847</td>\n",
       "      <td>1.457500</td>\n",
       "      <td>1.572463</td>\n",
       "    </tr>\n",
       "    <tr>\n",
       "      <td>19958</td>\n",
       "      <td>1.718186</td>\n",
       "      <td>0.681425</td>\n",
       "      <td>2.013217</td>\n",
       "      <td>2.931761</td>\n",
       "      <td>1.718186</td>\n",
       "    </tr>\n",
       "    <tr>\n",
       "      <td>19959</td>\n",
       "      <td>2.641356</td>\n",
       "      <td>2.287348</td>\n",
       "      <td>2.269164</td>\n",
       "      <td>2.701695</td>\n",
       "      <td>2.641356</td>\n",
       "    </tr>\n",
       "    <tr>\n",
       "      <td>19960</td>\n",
       "      <td>1.183816</td>\n",
       "      <td>-0.670594</td>\n",
       "      <td>0.688150</td>\n",
       "      <td>1.772524</td>\n",
       "      <td>1.183816</td>\n",
       "    </tr>\n",
       "    <tr>\n",
       "      <td>19961</td>\n",
       "      <td>1.660516</td>\n",
       "      <td>-0.045998</td>\n",
       "      <td>1.730594</td>\n",
       "      <td>2.861608</td>\n",
       "      <td>1.660516</td>\n",
       "    </tr>\n",
       "  </tbody>\n",
       "</table>\n",
       "</div>"
      ],
      "text/plain": [
       "              0     lower       mid     upper    Actual\n",
       "19957  1.572463 -1.198139  0.172847  1.457500  1.572463\n",
       "19958  1.718186  0.681425  2.013217  2.931761  1.718186\n",
       "19959  2.641356  2.287348  2.269164  2.701695  2.641356\n",
       "19960  1.183816 -0.670594  0.688150  1.772524  1.183816\n",
       "19961  1.660516 -0.045998  1.730594  2.861608  1.660516"
      ]
     },
     "execution_count": 39,
     "metadata": {},
     "output_type": "execute_result"
    }
   ],
   "source": [
    "predictions['Actual'] = pd.DataFrame(y_test)\n",
    "predictions['lower'] = lower_model.predict(X_test)\n",
    "predictions['mid'] = mid_model.predict(X_test)\n",
    "predictions['upper'] = upper_model.predict(X_test)\n",
    "\n",
    "assert (predictions['upper'] > predictions['lower']).all()\n",
    "\n",
    "predictions.tail()"
   ]
  },
  {
   "cell_type": "code",
   "execution_count": null,
   "metadata": {},
   "outputs": [],
   "source": [
    "print(\"Experiment 1a_MLP_test\")\n",
    "plt.scatter(X_test[:200,2],y_test[:200],marker='*',color='r',s=50)\n",
    "plt.scatter(X_test[:200,2],MLP_1a_test[:200],color='g',s=50)\n",
    "plt.title('MLP Regressor model Predicted vs Actual')\n",
    "plt.ylabel('Predicted and Actual CO2 emission')\n",
    "plt.xlabel('Year')\n",
    "plt.legend(['Actual', 'Predicted'], loc='upper right')\n",
    "# plt.show()\n",
    "# plt.savefig('Ex:1_Model_MSE.jpg', bbox_inches='tight')"
   ]
  },
  {
   "cell_type": "code",
   "execution_count": null,
   "metadata": {},
   "outputs": [],
   "source": [
    "print(\"Experiment 1a_MLP_test\")\n",
    "plt.scatter(y_test,MLP_1a_test,s=50,marker='*',color='skyblue')\n",
    "m, b = np.polyfit(y_test, MLP_1a_test,1)\n",
    "plt.plot(y_test, m*y_test + b)\n",
    "plt.title('MLP regressor Model Predicted vs Actual emission')\n",
    "plt.ylabel('Predicted emission')\n",
    "plt.xlabel('Actual emission')\n",
    "plt.text(-1.0,1.8, 'R-squared = %0.2f' % r2_score(y_test, MLP_1a_test))"
   ]
  },
  {
   "cell_type": "code",
   "execution_count": null,
   "metadata": {},
   "outputs": [],
   "source": [
    "df=data.copy()\n",
    "cols = list(df.columns)\n",
    "cols.remove('Country')\n",
    "cols.remove('Crop')\n",
    "cols.remove('Year')\n",
    "df[cols]\n",
    "df[cols]=df[cols].apply(zscore)"
   ]
  },
  {
   "cell_type": "code",
   "execution_count": null,
   "metadata": {},
   "outputs": [],
   "source": [
    "df.head(2)"
   ]
  },
  {
   "cell_type": "code",
   "execution_count": null,
   "metadata": {},
   "outputs": [],
   "source": [
    "X1 = np.array(df.iloc[:,:5])\n",
    "y1 = np.array(df.iloc[:,5])\n",
    "X1_train, X1_test, y1_train, y1_test = train_test_split(\n",
    "    X1, y1, test_size=0.30, random_state=300)"
   ]
  },
  {
   "cell_type": "code",
   "execution_count": null,
   "metadata": {},
   "outputs": [],
   "source": [
    "regr = MLPRegressor(hidden_layer_sizes=(120,64,38,6 ), activation='relu', solver='adam', alpha=0.01, \n",
    "                    batch_size=300,verbose=False,\n",
    "                    max_iter=100, shuffle=True, random_state=50)\n",
    "\n",
    "regr.fit(X1_train, y1_train)\n"
   ]
  },
  {
   "cell_type": "code",
   "execution_count": null,
   "metadata": {},
   "outputs": [],
   "source": [
    "print(\"MLP Results_1b\")\n",
    "print(\"Test metrics 1b_test\")\n",
    "MLP_1b_test = regr.predict(X1_test)\n",
    "\n",
    "print(\"Test MAE:\", round(mean_absolute_error(y1_test, MLP_1b_test),3))\n",
    "print(\"Test R2\", round(r2_score(y1_test, MLP_1b_test),3))\n",
    "print(\"Test MSE:\", round(mean_squared_error(y1_test, MLP_1b_test, squared= False),3))\n",
    "print(\"Test RMSE:\",round(mean_squared_error(y1_test, MLP_1b_test, squared= True),3))\n",
    "\n",
    "print(\"Train metrics\")\n",
    "MLP_1b_train = regr.predict(X1_train)\n",
    "\n",
    "print(\"Train MAE:\", round(mean_absolute_error(y1_train, MLP_1b_train),3))\n",
    "print(\"Train R2\", round(r2_score(y1_train, MLP_1b_train),3))\n",
    "print(\"Train MSE:\", round(mean_squared_error(y1_train, MLP_1b_train, squared= False),3))\n",
    "print(\"Train RMSE:\",round(mean_squared_error(y1_train, MLP_1b_train, squared= True),3))"
   ]
  },
  {
   "cell_type": "code",
   "execution_count": null,
   "metadata": {},
   "outputs": [],
   "source": [
    "print(\"MLP Experiment 1a_test statistics\")\n",
    "print(\"The mean of the actual labels:\",round(np.mean(y1_test),3))\n",
    "print(\"The mean of the predicted labels:\",round(np.mean(MLP_1b_test),3))\n",
    "print(\"The sd of the actual labels:\",round(np.std(y1_test),3))\n",
    "print(\"The sd of the predicted labels:\",round(np.std(MLP_1b_test),3))\n",
    "print()\n",
    "print(\"MLP Experiment 1a_train statistics\")\n",
    "print(\"The mean of the actual labels:\",round(np.mean(y1_train),3))\n",
    "print(\"The mean of the predicted labels:\",round(np.mean(MLP_1b_train),3))\n",
    "print(\"The sd of the actual labels:\",round(np.std(y1_train),3))\n",
    "print(\"The sd of the predicted labels:\",round(np.std(MLP_1b_train),3))"
   ]
  },
  {
   "cell_type": "code",
   "execution_count": null,
   "metadata": {},
   "outputs": [],
   "source": [
    "from sklearn.ensemble import GradientBoostingRegressor"
   ]
  },
  {
   "cell_type": "code",
   "execution_count": null,
   "metadata": {},
   "outputs": [],
   "source": [
    "# Set lower and upper quantile\n",
    "LOWER_ALPHA = 0.1\n",
    "UPPER_ALPHA = 0.9\n",
    "# Each model has to be separate\n",
    "lower_model = GradientBoostingRegressor(loss=\"quantile\",                   \n",
    "                                        alpha=LOWER_ALPHA)\n",
    "# The mid model will use the default loss\n",
    "mid_model = GradientBoostingRegressor(loss=\"ls\")\n",
    "upper_model = GradientBoostingRegressor(loss=\"quantile\",\n",
    "                                        alpha=UPPER_ALPHA)"
   ]
  },
  {
   "cell_type": "code",
   "execution_count": null,
   "metadata": {},
   "outputs": [],
   "source": [
    "# Fit models\n",
    "lower_model.fit(X1_train, y1_train)\n",
    "mid_model.fit(X1_train, y1_train)\n",
    "upper_model.fit(X1_train, y1_train)\n",
    "# Record actual values on test set\n",
    "predictions = pd.DataFrame(y1_test)\n",
    "# Predict\n",
    "predictions['lower'] = lower_model.predict(X1_test)\n",
    "predictions['mid'] = mid_model.predict(X1_test)\n",
    "predictions['upper'] = upper_model.predict(X1_test)"
   ]
  },
  {
   "cell_type": "code",
   "execution_count": null,
   "metadata": {},
   "outputs": [],
   "source": [
    "predictions"
   ]
  },
  {
   "cell_type": "code",
   "execution_count": null,
   "metadata": {
    "scrolled": true
   },
   "outputs": [],
   "source": [
    "print(\"Experiment 1b_MLP_test\")\n",
    "plt.scatter(X1_test[:200,2],y1_test[:200],marker='*',color='r',s=50)\n",
    "plt.scatter(X1_test[:200,2],MLP_1b_test[:200],color='g',s=50)\n",
    "plt.title('MLP Regressor model Predicted vs Actual')\n",
    "plt.ylabel('Predicted and Actual CO2 emission')\n",
    "plt.xlabel('Year')\n",
    "plt.legend(['Actual', 'Predicted'], loc='upper right')\n",
    "# plt.show()\n",
    "# plt.savefig('Ex:1_Model_MSE.jpg', bbox_inches='tight')"
   ]
  },
  {
   "cell_type": "code",
   "execution_count": null,
   "metadata": {},
   "outputs": [],
   "source": [
    "print(\"Experiment 1b_MLP_test\")\n",
    "plt.scatter(y1_test,MLP_1b_test,s=50,marker='*',color='skyblue')\n",
    "m, b = np.polyfit(y1_test, MLP_1b_test,1)\n",
    "plt.plot(y1_test, m*y1_test + b)\n",
    "plt.title('MLP regressor Model Predicted vs Actual emission')\n",
    "plt.ylabel('Predicted emission')\n",
    "plt.xlabel('Actual emission')\n",
    "plt.text(-.0, 1.0, 'R-squared = %0.2f' % r2_score(y1_test, MLP_1b_test))"
   ]
  },
  {
   "cell_type": "markdown",
   "metadata": {},
   "source": [
    "# RFR"
   ]
  },
  {
   "cell_type": "code",
   "execution_count": null,
   "metadata": {},
   "outputs": [],
   "source": [
    "\n",
    "from sklearn import tree\n"
   ]
  },
  {
   "cell_type": "code",
   "execution_count": null,
   "metadata": {
    "scrolled": false
   },
   "outputs": [],
   "source": [
    "regr = RandomForestRegressor(max_depth=25, random_state=10,oob_score=True,n_estimators=200)\n",
    "regr.fit(X_train, y_train)"
   ]
  },
  {
   "cell_type": "code",
   "execution_count": null,
   "metadata": {},
   "outputs": [],
   "source": [
    "print(regr.oob_score_)"
   ]
  },
  {
   "cell_type": "code",
   "execution_count": null,
   "metadata": {},
   "outputs": [],
   "source": [
    "print(\"Test RFR 1a metrics\")\n",
    "RFR_1a_test = regr.predict(X_test)\n",
    "\n",
    "print(\"Test MAE:\", round(mean_absolute_error(y_test, RFR_1a_test),2))\n",
    "print(\"Test R2\", round(r2_score(y_test, RFR_1a_test),4))\n",
    "print(\"Test MSE:\", round(mean_squared_error(y_test, RFR_1a_test, squared= False),2))\n",
    "print(\"Test RMSE:\",round(mean_squared_error(y_test, RFR_1a_test, squared= True),4))\n",
    "\n",
    "print(\"Train metrics\")\n",
    "RFR_1a_train = regr.predict(X_train)\n",
    "\n",
    "print(\"Train MAE:\", round(mean_absolute_error(y_train, RFR_1a_train),2))\n",
    "print(\"Train R2\", round(r2_score(y_train, RFR_1a_train),4))\n",
    "print(\"Train MSE:\", round(mean_squared_error(y_train, RFR_1a_train, squared= False),2))\n",
    "print(\"Train RMSE:\",round(mean_squared_error(y_train, RFR_1a_train, squared= True),4))"
   ]
  },
  {
   "cell_type": "code",
   "execution_count": null,
   "metadata": {},
   "outputs": [],
   "source": [
    "plt.scatter(X_test[:200,2],y_test[:200],marker='*',color='r',s=50)\n",
    "plt.scatter(X_test[:200,2],RFR_1a_test[:200],color='g',s=30)\n",
    "plt.title('RF Regressor model Predicted vs Actual')\n",
    "plt.ylabel('Predicted and Actual CO2 emission')\n",
    "plt.xlabel('Year')\n",
    "plt.legend(['Actual', 'Predicted'], loc='upper right')\n",
    "# plt.show()\n",
    "# plt.savefig('Ex:1_Model_MSE.jpg', bbox_inches='tight')"
   ]
  },
  {
   "cell_type": "code",
   "execution_count": null,
   "metadata": {},
   "outputs": [],
   "source": [
    "print(\"RFR Exp 1a\")\n",
    "plt.scatter(y_test,RFR_1a_test,s=50,marker='*',color='skyblue')\n",
    "m, b = np.polyfit(y_test, RFR_1a_test,1)\n",
    "plt.plot(y_test, m*y_test + b)\n",
    "plt.title('RF regressor Model Predicted vs Actual emission')\n",
    "plt.ylabel('Predicted emission')\n",
    "plt.xlabel('Actual emission')\n",
    "plt.text(-2.0, 2.0, 'R-squared = %0.3f' % r2_score(y_test, RFR_1a_test))"
   ]
  },
  {
   "cell_type": "code",
   "execution_count": null,
   "metadata": {},
   "outputs": [],
   "source": [
    "df=data.copy()\n",
    "cols = list(df.columns)\n",
    "cols.remove('Country')\n",
    "cols.remove('Crop')\n",
    "cols.remove('Year')\n",
    "df[cols]\n",
    "df[cols]=df[cols].apply(zscore)"
   ]
  },
  {
   "cell_type": "code",
   "execution_count": null,
   "metadata": {},
   "outputs": [],
   "source": [
    "df.head()"
   ]
  },
  {
   "cell_type": "code",
   "execution_count": null,
   "metadata": {},
   "outputs": [],
   "source": [
    "X1 = np.array(df.iloc[:,:5])\n",
    "y1 = np.array(df.iloc[:,5])\n",
    "X1_train, X1_test, y1_train, y1_test = train_test_split(\n",
    "    X1, y1, test_size=0.30, random_state=300)"
   ]
  },
  {
   "cell_type": "code",
   "execution_count": null,
   "metadata": {},
   "outputs": [],
   "source": [
    "regr = RandomForestRegressor(max_depth=25, random_state=10,oob_score=True,n_estimators=200)\n",
    "\n",
    "regr.fit(X1_train, y1_train)"
   ]
  },
  {
   "cell_type": "code",
   "execution_count": null,
   "metadata": {},
   "outputs": [],
   "source": [
    "print(\"Test RFR 1b metrics\")\n",
    "RFR_1b_test = regr.predict(X1_test)\n",
    "\n",
    "print(\"Test MAE:\", round(mean_absolute_error(y1_test, RFR_1b_test),3))\n",
    "print(\"Test R2\", round(r2_score(y1_test, RFR_1b_test),3))\n",
    "print(\"Test MSE:\", round(mean_squared_error(y1_test, RFR_1b_test, squared= False),3))\n",
    "print(\"Test RMSE:\",round(mean_squared_error(y1_test, RFR_1b_test, squared= True),3))\n",
    "\n",
    "print(\"Train metrics\")\n",
    "RFR_1b_train = regr.predict(X1_train)\n",
    "\n",
    "print(\"Train MAE:\", round(mean_absolute_error(y1_train, RFR_1b_train),3))\n",
    "print(\"Train R2\", round(r2_score(y1_train, RFR_1b_train),3))\n",
    "print(\"Train MSE:\", round(mean_squared_error(y1_train, RFR_1b_train, squared= False),3))\n",
    "print(\"Train RMSE:\",round(mean_squared_error(y1_train, RFR_1b_train, squared= True),3))"
   ]
  },
  {
   "cell_type": "code",
   "execution_count": null,
   "metadata": {},
   "outputs": [],
   "source": [
    "plt.scatter(X1_test[:200,2],y1_test[:200],marker='*',color='r',s=50)\n",
    "plt.scatter(X1_test[:200,2],RFR_1b_test[:200],color='g',s=30)\n",
    "plt.title('RF Regressor model Predicted vs Actual')\n",
    "plt.ylabel('Predicted and Actual CO2 emission')\n",
    "plt.xlabel('Year')\n",
    "plt.legend(['Actual', 'Predicted'], loc='upper right')\n",
    "# plt.show()\n",
    "# plt.savefig('Ex:1_Model_MSE.jpg', bbox_inches='tight')"
   ]
  },
  {
   "cell_type": "code",
   "execution_count": null,
   "metadata": {},
   "outputs": [],
   "source": [
    "plt.scatter(y1_test,RFR_1b_test,s=50,marker='*',color='skyblue')\n",
    "m, b = np.polyfit(y1_test, RFR_1b_test,1)\n",
    "plt.plot(y1_test, m*y1_test + b)\n",
    "plt.title('RF regressor Model Predicted vs Actual emission')\n",
    "plt.ylabel('Predicted emission')\n",
    "plt.xlabel('Actual emission')\n",
    "plt.text(-2.0, 2.0, 'R-squared = %0.3f' % r2_score(y1_test, RFR_1b_test))"
   ]
  },
  {
   "cell_type": "markdown",
   "metadata": {},
   "source": [
    "# RFR ENDS"
   ]
  },
  {
   "cell_type": "markdown",
   "metadata": {},
   "source": [
    "# MLR start"
   ]
  },
  {
   "cell_type": "code",
   "execution_count": 12,
   "metadata": {},
   "outputs": [
    {
     "data": {
      "text/html": [
       "<div>\n",
       "<style scoped>\n",
       "    .dataframe tbody tr th:only-of-type {\n",
       "        vertical-align: middle;\n",
       "    }\n",
       "\n",
       "    .dataframe tbody tr th {\n",
       "        vertical-align: top;\n",
       "    }\n",
       "\n",
       "    .dataframe thead th {\n",
       "        text-align: right;\n",
       "    }\n",
       "</style>\n",
       "<table border=\"1\" class=\"dataframe\">\n",
       "  <thead>\n",
       "    <tr style=\"text-align: right;\">\n",
       "      <th></th>\n",
       "      <th>Country</th>\n",
       "      <th>Crop</th>\n",
       "      <th>Year</th>\n",
       "      <th>Yield</th>\n",
       "      <th>Annual Population</th>\n",
       "      <th>Total emission</th>\n",
       "    </tr>\n",
       "  </thead>\n",
       "  <tbody>\n",
       "    <tr>\n",
       "      <td>0</td>\n",
       "      <td>0</td>\n",
       "      <td>0</td>\n",
       "      <td>1961</td>\n",
       "      <td>4.033424</td>\n",
       "      <td>3.962341</td>\n",
       "      <td>1.548533</td>\n",
       "    </tr>\n",
       "    <tr>\n",
       "      <td>1</td>\n",
       "      <td>0</td>\n",
       "      <td>0</td>\n",
       "      <td>1962</td>\n",
       "      <td>4.033424</td>\n",
       "      <td>3.970879</td>\n",
       "      <td>1.548533</td>\n",
       "    </tr>\n",
       "  </tbody>\n",
       "</table>\n",
       "</div>"
      ],
      "text/plain": [
       "   Country  Crop  Year     Yield  Annual Population  Total emission\n",
       "0        0     0  1961  4.033424           3.962341        1.548533\n",
       "1        0     0  1962  4.033424           3.970879        1.548533"
      ]
     },
     "execution_count": 12,
     "metadata": {},
     "output_type": "execute_result"
    }
   ],
   "source": [
    "data.head(2)"
   ]
  },
  {
   "cell_type": "code",
   "execution_count": 13,
   "metadata": {},
   "outputs": [],
   "source": [
    "X = np.array(data.iloc[:,:5])\n",
    "y = np.array(data.iloc[:,5])\n",
    "X_train, X_test, y_train, y_test = train_test_split(\n",
    "    X, y, test_size=0.30, random_state=300)"
   ]
  },
  {
   "cell_type": "code",
   "execution_count": 62,
   "metadata": {},
   "outputs": [
    {
     "data": {
      "text/plain": [
       "LinearRegression(copy_X=True, fit_intercept=True, n_jobs=None, normalize=False)"
      ]
     },
     "execution_count": 62,
     "metadata": {},
     "output_type": "execute_result"
    }
   ],
   "source": [
    "reg = LinearRegression()\n",
    "# reg = KNeighborsRegressor(n_neighbors=20)\n",
    "# neigh.fit(X, y)\n",
    "reg.fit(X_train, y_train)"
   ]
  },
  {
   "cell_type": "code",
   "execution_count": 63,
   "metadata": {},
   "outputs": [
    {
     "name": "stdout",
     "output_type": "stream",
     "text": [
      "MLR 1a Test metrics\n",
      "Test MAE: 0.897\n",
      "Test R2 0.333\n",
      "Test MSE: 1.121\n",
      "Test RMSE: 1.258\n",
      "Train metrics\n",
      "Train MAE: 0.892\n",
      "Train R2 0.336\n",
      "Train MSE: 1.114\n",
      "Train RMSE: 1.241\n"
     ]
    }
   ],
   "source": [
    "print(\"MLR 1a Test metrics\")\n",
    "MLR_1a_test = reg.predict(X_test)\n",
    "\n",
    "print(\"Test MAE:\", round(mean_absolute_error(y_test, MLR_1a_test),3))\n",
    "print(\"Test R2\", round(r2_score(y_test, MLR_1a_test),3))\n",
    "print(\"Test MSE:\", round(mean_squared_error(y_test, MLR_1a_test, squared= False),3))\n",
    "print(\"Test RMSE:\",round(mean_squared_error(y_test, MLR_1a_test, squared= True),3))\n",
    "\n",
    "print(\"Train metrics\")\n",
    "MLR_1a_train = reg.predict(X_train)\n",
    "\n",
    "print(\"Train MAE:\", round(mean_absolute_error(y_train, MLR_1a_train),3))\n",
    "print(\"Train R2\", round(r2_score(y_train, MLR_1a_train),3))\n",
    "print(\"Train MSE:\", round(mean_squared_error(y_train, MLR_1a_train, squared= False),3))\n",
    "print(\"Train RMSE:\",round(mean_squared_error(y_train, MLR_1a_train, squared= True),3))"
   ]
  },
  {
   "cell_type": "code",
   "execution_count": 64,
   "metadata": {},
   "outputs": [],
   "source": [
    "feature_cols = list(data.columns)\n",
    "feature_cols.remove('Total emission')"
   ]
  },
  {
   "cell_type": "code",
   "execution_count": 65,
   "metadata": {},
   "outputs": [
    {
     "name": "stdout",
     "output_type": "stream",
     "text": [
      "7.860004924992314\n",
      "[-7.77403312e-04 -1.74512224e-02 -5.61263532e-03  5.04787563e-03\n",
      "  1.01340432e+00]\n"
     ]
    },
    {
     "data": {
      "text/plain": [
       "(['Country', 'Crop', 'Year', 'Yield', 'Annual Population'],\n",
       " array([-7.77403312e-04, -1.74512224e-02, -5.61263532e-03,  5.04787563e-03,\n",
       "         1.01340432e+00]))"
      ]
     },
     "execution_count": 65,
     "metadata": {},
     "output_type": "execute_result"
    }
   ],
   "source": [
    "print(reg.intercept_)\n",
    "print(reg.coef_)\n",
    "(feature_cols, reg.coef_)"
   ]
  },
  {
   "cell_type": "code",
   "execution_count": 67,
   "metadata": {},
   "outputs": [
    {
     "data": {
      "text/plain": [
       "<matplotlib.legend.Legend at 0x13e121410>"
      ]
     },
     "execution_count": 67,
     "metadata": {},
     "output_type": "execute_result"
    },
    {
     "data": {
      "image/png": "[encoded data removed]",
      "text/plain": [
       "<Figure size 432x288 with 1 Axes>"
      ]
     },
     "metadata": {
      "needs_background": "light"
     },
     "output_type": "display_data"
    }
   ],
   "source": [
    "plt.scatter(X_test[:200,2],y_test[:200],marker='*',color='r',s=50)\n",
    "plt.scatter(X_test[:200,2],MLR_1a_test[:200],color='g',s=30)\n",
    "plt.plot(np.mean(X_test[:200,2]),np.mean(MLR_1a_test[:200]))\n",
    "plt.title('MLR Regressor model Predicted vs Actual')\n",
    "plt.ylabel('Predicted and Actual CO2 emission')\n",
    "plt.xlabel('Year')\n",
    "plt.legend(['Actual', 'Predicted'], loc='upper right')\n",
    "# plt.show()\n",
    "# plt.savefig('Ex:1_Model_MSE.jpg', bbox_inches='tight')"
   ]
  },
  {
   "cell_type": "code",
   "execution_count": 68,
   "metadata": {
    "scrolled": true
   },
   "outputs": [
    {
     "data": {
      "text/plain": [
       "Text(-2.0, 2.0, 'R-squared = 0.333')"
      ]
     },
     "execution_count": 68,
     "metadata": {},
     "output_type": "execute_result"
    },
    {
     "data": {
      "image/png": "[encoded data removed]",
      "text/plain": [
       "<Figure size 432x288 with 1 Axes>"
      ]
     },
     "metadata": {
      "needs_background": "light"
     },
     "output_type": "display_data"
    }
   ],
   "source": [
    "plt.scatter(y_test,MLR_1a_test,s=50,marker='*',color='skyblue')\n",
    "m, b = np.polyfit(y_test, MLR_1a_test,1)\n",
    "plt.plot(y_test, m*y_test + b)\n",
    "plt.title('MLR Model Predicted vs Actual emission')\n",
    "plt.ylabel('Predicted emission')\n",
    "plt.xlabel('Actual emission')\n",
    "plt.text(-2.0, 2.0, 'R-squared = %0.3f' % r2_score(y_test, MLR_1a_test))"
   ]
  },
  {
   "cell_type": "markdown",
   "metadata": {},
   "source": [
    "# Feature standardization"
   ]
  },
  {
   "cell_type": "code",
   "execution_count": 69,
   "metadata": {},
   "outputs": [],
   "source": [
    "df=data.copy()\n",
    "cols = list(df.columns)\n",
    "cols.remove('Country')\n",
    "cols.remove('Crop')\n",
    "cols.remove('Year')\n",
    "df[cols]\n",
    "df[cols]=df[cols].apply(zscore)"
   ]
  },
  {
   "cell_type": "code",
   "execution_count": 70,
   "metadata": {},
   "outputs": [],
   "source": [
    "X1 = np.array(df.iloc[:,:5])\n",
    "y1 = np.array(df.iloc[:,5])\n",
    "X1_train, X1_test, y1_train, y1_test = train_test_split(\n",
    "    X1, y1, test_size=0.30, random_state=300)"
   ]
  },
  {
   "cell_type": "code",
   "execution_count": 71,
   "metadata": {},
   "outputs": [
    {
     "data": {
      "text/plain": [
       "LinearRegression(copy_X=True, fit_intercept=True, n_jobs=None, normalize=False)"
      ]
     },
     "execution_count": 71,
     "metadata": {},
     "output_type": "execute_result"
    }
   ],
   "source": [
    "reg = LinearRegression()\n",
    "reg.fit(X1_train, y1_train)"
   ]
  },
  {
   "cell_type": "code",
   "execution_count": 73,
   "metadata": {},
   "outputs": [
    {
     "name": "stdout",
     "output_type": "stream",
     "text": [
      "Test metrics for MLR\n",
      "Test MAE: 0.653\n",
      "Test R2 0.329\n",
      "Test MSE: 0.819\n",
      "Test RMSE: 0.671\n",
      "Train metrics\n",
      "Train MAE: 0.653\n",
      "Train R2 0.338\n",
      "Train MSE: 0.814\n",
      "Train RMSE: 0.662\n"
     ]
    }
   ],
   "source": [
    "print(\"Test metrics for MLR\")\n",
    "MLR_1b_test = reg.predict(X1_test)\n",
    "\n",
    "print(\"Test MAE:\", round(mean_absolute_error(y1_test, MLR_1b_test),3))\n",
    "print(\"Test R2\", round(r2_score(y1_test, MLR_1b_test),3))\n",
    "print(\"Test MSE:\", round(mean_squared_error(y1_test, MLR_1b_test, squared= False),3))\n",
    "print(\"Test RMSE:\",round(mean_squared_error(y1_test, MLR_1b_test, squared= True),3))\n",
    "\n",
    "print(\"Train metrics\")\n",
    "MLR_1b_train = reg.predict(X1_train)\n",
    "\n",
    "print(\"Train MAE:\", round(mean_absolute_error(y1_train, MLR_1b_train),3))\n",
    "print(\"Train R2\", round(r2_score(y1_train, MLR_1b_train),3))\n",
    "print(\"Train MSE:\", round(mean_squared_error(y1_train, MLR_1b_train, squared= False),3))\n",
    "print(\"Train RMSE:\",round(mean_squared_error(y1_train, MLR_1b_train, squared= True),3))"
   ]
  },
  {
   "cell_type": "code",
   "execution_count": 74,
   "metadata": {},
   "outputs": [
    {
     "data": {
      "text/plain": [
       "<matplotlib.legend.Legend at 0x13e9d9590>"
      ]
     },
     "execution_count": 74,
     "metadata": {},
     "output_type": "execute_result"
    },
    {
     "data": {
      "image/png": "[encoded data removed]",
      "text/plain": [
       "<Figure size 432x288 with 1 Axes>"
      ]
     },
     "metadata": {
      "needs_background": "light"
     },
     "output_type": "display_data"
    }
   ],
   "source": [
    "plt.scatter(X1_test[:200,2],y1_test[:200],marker='*',color='r',s=50)\n",
    "plt.scatter(X1_test[:200,2],MLR_1b_test[:200],color='g',s=30)\n",
    "plt.title('MLR model Predicted vs Actual')\n",
    "plt.ylabel('Predicted and Actual CO2 emission')\n",
    "plt.xlabel('Year')\n",
    "plt.legend(['Actual', 'Predicted'], loc='upper right')\n",
    "# plt.show()\n",
    "# plt.savefig('Ex:1_Model_MSE.jpg', bbox_inches='tight')"
   ]
  },
  {
   "cell_type": "code",
   "execution_count": 75,
   "metadata": {
    "scrolled": true
   },
   "outputs": [
    {
     "data": {
      "text/plain": [
       "Text(-1.0, 0.5, 'R-squared = 0.329')"
      ]
     },
     "execution_count": 75,
     "metadata": {},
     "output_type": "execute_result"
    },
    {
     "data": {
      "image/png": "[encoded data removed]",
      "text/plain": [
       "<Figure size 432x288 with 1 Axes>"
      ]
     },
     "metadata": {
      "needs_background": "light"
     },
     "output_type": "display_data"
    }
   ],
   "source": [
    "plt.scatter(y1_test,MLR_1b_test,s=50,marker='*',color='skyblue')\n",
    "m, b = np.polyfit(y1_test, MLR_1b_test,1)\n",
    "plt.plot(y1_test, m*y1_test + b)\n",
    "plt.title('MLR Model Predicted vs Actual emission')\n",
    "plt.ylabel('Predicted emission')\n",
    "plt.xlabel('Actual emission')\n",
    "plt.text(-1.0, .50, 'R-squared = %0.3f' % r2_score(y1_test, MLR_1b_test))"
   ]
  },
  {
   "cell_type": "code",
   "execution_count": null,
   "metadata": {},
   "outputs": [],
   "source": [
    "class sklearn.neighbors.KNeighborsRegressor(n_neighbors=5, *, weights='uniform', algorithm='auto', leaf_size=30, p=2, metric='minkowski', metric_params=None, n_jobs=None, **kwargs"
   ]
  },
  {
   "cell_type": "code",
   "execution_count": null,
   "metadata": {},
   "outputs": [],
   "source": [
    "from sklearn.neighbors import KNeighborsRegressor\n"
   ]
  },
  {
   "cell_type": "code",
   "execution_count": 442,
   "metadata": {},
   "outputs": [],
   "source": [
    "df = pd.read_csv(\"emission.csv\")"
   ]
  },
  {
   "cell_type": "code",
   "execution_count": 443,
   "metadata": {},
   "outputs": [],
   "source": [
    "i = df[(df['Area harvested'] == 0) |(df['Production quantity'] == 0)].index\n",
    "df=df.drop(i)"
   ]
  },
  {
   "cell_type": "code",
   "execution_count": 444,
   "metadata": {},
   "outputs": [],
   "source": [
    "area_en = preprocessing.LabelEncoder()\n",
    "area_en.fit(df[\"Country\"])\n",
    "area = area_en.transform(df[\"Country\"])\n",
    "df[\"Country\"] = area\n",
    "\n",
    "item_en = preprocessing.LabelEncoder()\n",
    "item_en.fit(df[\"Crop\"])\n",
    "items = item_en.transform(df[\"Crop\"])\n",
    "df[\"Crop\"] = items\n",
    "\n",
    "#data[\"Production quantity\"] = np.log10(data[\"Production quantity\"])\n",
    "df[\"Yield\"] = np.log10(df[\"Yield\"])\n",
    "df[\"Annual Population\"] = np.log10(df[\"Annual Population\"])\n",
    "df[\"Total emission\"] = np.log10(df[\"Total emission\"])"
   ]
  },
  {
   "cell_type": "code",
   "execution_count": 445,
   "metadata": {},
   "outputs": [],
   "source": [
    "df.drop(['Area harvested','Production quantity'],inplace=True, axis=1)"
   ]
  },
  {
   "cell_type": "code",
   "execution_count": 344,
   "metadata": {},
   "outputs": [
    {
     "data": {
      "text/plain": [
       "66539"
      ]
     },
     "execution_count": 344,
     "metadata": {},
     "output_type": "execute_result"
    }
   ],
   "source": [
    "df.shape[0]"
   ]
  },
  {
   "cell_type": "code",
   "execution_count": 323,
   "metadata": {},
   "outputs": [
    {
     "data": {
      "text/html": [
       "<div>\n",
       "<style scoped>\n",
       "    .dataframe tbody tr th:only-of-type {\n",
       "        vertical-align: middle;\n",
       "    }\n",
       "\n",
       "    .dataframe tbody tr th {\n",
       "        vertical-align: top;\n",
       "    }\n",
       "\n",
       "    .dataframe thead th {\n",
       "        text-align: right;\n",
       "    }\n",
       "</style>\n",
       "<table border=\"1\" class=\"dataframe\">\n",
       "  <thead>\n",
       "    <tr style=\"text-align: right;\">\n",
       "      <th></th>\n",
       "      <th>Country</th>\n",
       "      <th>Crop</th>\n",
       "      <th>Year</th>\n",
       "      <th>Yield</th>\n",
       "      <th>Annual Population</th>\n",
       "      <th>Total emission</th>\n",
       "    </tr>\n",
       "  </thead>\n",
       "  <tbody>\n",
       "    <tr>\n",
       "      <td>0</td>\n",
       "      <td>0</td>\n",
       "      <td>0</td>\n",
       "      <td>1961</td>\n",
       "      <td>4.033424</td>\n",
       "      <td>3.962341</td>\n",
       "      <td>1.548533</td>\n",
       "    </tr>\n",
       "    <tr>\n",
       "      <td>1</td>\n",
       "      <td>0</td>\n",
       "      <td>0</td>\n",
       "      <td>1962</td>\n",
       "      <td>4.033424</td>\n",
       "      <td>3.970879</td>\n",
       "      <td>1.548533</td>\n",
       "    </tr>\n",
       "    <tr>\n",
       "      <td>2</td>\n",
       "      <td>0</td>\n",
       "      <td>0</td>\n",
       "      <td>1963</td>\n",
       "      <td>4.033424</td>\n",
       "      <td>3.979694</td>\n",
       "      <td>1.548533</td>\n",
       "    </tr>\n",
       "    <tr>\n",
       "      <td>3</td>\n",
       "      <td>0</td>\n",
       "      <td>0</td>\n",
       "      <td>1964</td>\n",
       "      <td>4.035710</td>\n",
       "      <td>3.988772</td>\n",
       "      <td>1.550085</td>\n",
       "    </tr>\n",
       "    <tr>\n",
       "      <td>4</td>\n",
       "      <td>0</td>\n",
       "      <td>0</td>\n",
       "      <td>1965</td>\n",
       "      <td>4.035710</td>\n",
       "      <td>3.998099</td>\n",
       "      <td>1.550085</td>\n",
       "    </tr>\n",
       "  </tbody>\n",
       "</table>\n",
       "</div>"
      ],
      "text/plain": [
       "   Country  Crop  Year     Yield  Annual Population  Total emission\n",
       "0        0     0  1961  4.033424           3.962341        1.548533\n",
       "1        0     0  1962  4.033424           3.970879        1.548533\n",
       "2        0     0  1963  4.033424           3.979694        1.548533\n",
       "3        0     0  1964  4.035710           3.988772        1.550085\n",
       "4        0     0  1965  4.035710           3.998099        1.550085"
      ]
     },
     "execution_count": 323,
     "metadata": {},
     "output_type": "execute_result"
    }
   ],
   "source": [
    "df.head()"
   ]
  },
  {
   "cell_type": "code",
   "execution_count": 345,
   "metadata": {},
   "outputs": [],
   "source": [
    "profile=df.loc[df['Year']==2017]\n"
   ]
  },
  {
   "cell_type": "code",
   "execution_count": 346,
   "metadata": {},
   "outputs": [],
   "source": [
    "ls=df.index[(df['Year']==2017)]\n"
   ]
  },
  {
   "cell_type": "code",
   "execution_count": 347,
   "metadata": {},
   "outputs": [
    {
     "data": {
      "text/plain": [
       "Int64Index([   56,   113,   170,   227,   284,   341,   398,   455,   512,\n",
       "              569,\n",
       "            ...\n",
       "            65961, 66069, 66173, 66230, 66287, 66344, 66401, 66458, 66526,\n",
       "            66583],\n",
       "           dtype='int64', length=1316)"
      ]
     },
     "execution_count": 347,
     "metadata": {},
     "output_type": "execute_result"
    }
   ],
   "source": [
    "df.index[(df['Year']==2017)]"
   ]
  },
  {
   "cell_type": "code",
   "execution_count": 348,
   "metadata": {},
   "outputs": [],
   "source": [
    "df.drop(ls,inplace=True,axis=0)"
   ]
  },
  {
   "cell_type": "code",
   "execution_count": 349,
   "metadata": {},
   "outputs": [
    {
     "data": {
      "text/plain": [
       "65223"
      ]
     },
     "execution_count": 349,
     "metadata": {},
     "output_type": "execute_result"
    }
   ],
   "source": [
    "df.shape[0]"
   ]
  },
  {
   "cell_type": "code",
   "execution_count": 350,
   "metadata": {},
   "outputs": [
    {
     "data": {
      "text/plain": [
       "66539"
      ]
     },
     "execution_count": 350,
     "metadata": {},
     "output_type": "execute_result"
    }
   ],
   "source": [
    "profile.shape[0]+df.shape[0]"
   ]
  },
  {
   "cell_type": "code",
   "execution_count": 351,
   "metadata": {},
   "outputs": [
    {
     "data": {
      "text/plain": [
       "Country              0\n",
       "Crop                 0\n",
       "Year                 0\n",
       "Yield                0\n",
       "Annual Population    0\n",
       "Total emission       0\n",
       "dtype: int64"
      ]
     },
     "execution_count": 351,
     "metadata": {},
     "output_type": "execute_result"
    }
   ],
   "source": [
    "df.isna().sum()"
   ]
  },
  {
   "cell_type": "code",
   "execution_count": 352,
   "metadata": {},
   "outputs": [],
   "source": [
    "X1 = np.array(df.iloc[:,:5])\n",
    "y1 = np.array(df.iloc[:,5])\n",
    "X1_train, X1_test, y1_train, y1_test = train_test_split(\n",
    "    X1, y1, test_size=0.30, random_state=300)"
   ]
  },
  {
   "cell_type": "code",
   "execution_count": 353,
   "metadata": {},
   "outputs": [
    {
     "data": {
      "text/plain": [
       "RandomForestRegressor(bootstrap=True, ccp_alpha=0.0, criterion='mse',\n",
       "                      max_depth=25, max_features='auto', max_leaf_nodes=None,\n",
       "                      max_samples=None, min_impurity_decrease=0.0,\n",
       "                      min_impurity_split=None, min_samples_leaf=1,\n",
       "                      min_samples_split=2, min_weight_fraction_leaf=0.0,\n",
       "                      n_estimators=200, n_jobs=None, oob_score=True,\n",
       "                      random_state=10, verbose=0, warm_start=False)"
      ]
     },
     "execution_count": 353,
     "metadata": {},
     "output_type": "execute_result"
    }
   ],
   "source": [
    "regr = RandomForestRegressor(max_depth=25, random_state=10,oob_score=True,n_estimators=200)\n",
    "\n",
    "regr.fit(X1_train, y1_train)"
   ]
  },
  {
   "cell_type": "code",
   "execution_count": 354,
   "metadata": {},
   "outputs": [
    {
     "name": "stdout",
     "output_type": "stream",
     "text": [
      "Test RFR 1b metrics\n",
      "Test MAE: 0.136\n",
      "Test R2 0.965\n",
      "Test MSE: 0.256\n",
      "Test RMSE: 0.066\n",
      "Train metrics\n",
      "Train MAE: 0.053\n",
      "Train R2 0.995\n",
      "Train MSE: 0.095\n",
      "Train RMSE: 0.009\n"
     ]
    }
   ],
   "source": [
    "print(\"Test RFR 1b metrics\")\n",
    "RFR_1b_test = regr.predict(X1_test)\n",
    "\n",
    "print(\"Test MAE:\", round(mean_absolute_error(y1_test, RFR_1b_test),3))\n",
    "print(\"Test R2\", round(r2_score(y1_test, RFR_1b_test),3))\n",
    "print(\"Test MSE:\", round(mean_squared_error(y1_test, RFR_1b_test, squared= False),3))\n",
    "print(\"Test RMSE:\",round(mean_squared_error(y1_test, RFR_1b_test, squared= True),3))\n",
    "\n",
    "print(\"Train metrics\")\n",
    "RFR_1b_train = regr.predict(X1_train)\n",
    "\n",
    "print(\"Train MAE:\", round(mean_absolute_error(y1_train, RFR_1b_train),3))\n",
    "print(\"Train R2\", round(r2_score(y1_train, RFR_1b_train),3))\n",
    "print(\"Train MSE:\", round(mean_squared_error(y1_train, RFR_1b_train, squared= False),3))\n",
    "print(\"Train RMSE:\",round(mean_squared_error(y1_train, RFR_1b_train, squared= True),3))"
   ]
  },
  {
   "cell_type": "code",
   "execution_count": 355,
   "metadata": {},
   "outputs": [],
   "source": [
    "X2 = np.array(profile.iloc[:,:5])\n",
    "y2 = np.array(profile.iloc[:,5])\n"
   ]
  },
  {
   "cell_type": "code",
   "execution_count": 356,
   "metadata": {},
   "outputs": [
    {
     "name": "stdout",
     "output_type": "stream",
     "text": [
      "Test Profile metrics\n",
      "Test MAE: 0.212\n",
      "Test R2 0.931\n",
      "Test MSE: 0.373\n",
      "Test RMSE: 0.139\n"
     ]
    }
   ],
   "source": [
    "print(\"Test Profile metrics\")\n",
    "RFR_profile_test = regr.predict(X2)\n",
    "\n",
    "print(\"Test MAE:\", round(mean_absolute_error(y2, RFR_profile_test),3))\n",
    "print(\"Test R2\", round(r2_score(y2, RFR_profile_test),3))\n",
    "print(\"Test MSE:\", round(mean_squared_error(y2, RFR_profile_test, squared= False),3))\n",
    "print(\"Test RMSE:\",round(mean_squared_error(y2, RFR_profile_test, squared= True),3))\n"
   ]
  },
  {
   "cell_type": "code",
   "execution_count": 362,
   "metadata": {
    "scrolled": true
   },
   "outputs": [],
   "source": [
    "c=area_en.inverse_transform([int(X) for X in X2[:,0]])"
   ]
  },
  {
   "cell_type": "code",
   "execution_count": 358,
   "metadata": {},
   "outputs": [],
   "source": [
    "profile[\"Country\"]=area_en.inverse_transform(profile[\"Country\"])\n",
    "profile[\"Crop\"]=item_en.inverse_transform(profile[\"Crop\"])"
   ]
  },
  {
   "cell_type": "code",
   "execution_count": 364,
   "metadata": {},
   "outputs": [],
   "source": [
    "cr=item_en.inverse_transform([int(x) for x in X2[:,1]])"
   ]
  },
  {
   "cell_type": "code",
   "execution_count": 365,
   "metadata": {},
   "outputs": [],
   "source": [
    "profile['Ctry']=c"
   ]
  },
  {
   "cell_type": "code",
   "execution_count": 367,
   "metadata": {},
   "outputs": [],
   "source": [
    "profile['Crp']=cr"
   ]
  },
  {
   "cell_type": "code",
   "execution_count": 368,
   "metadata": {},
   "outputs": [
    {
     "data": {
      "text/html": [
       "<div>\n",
       "<style scoped>\n",
       "    .dataframe tbody tr th:only-of-type {\n",
       "        vertical-align: middle;\n",
       "    }\n",
       "\n",
       "    .dataframe tbody tr th {\n",
       "        vertical-align: top;\n",
       "    }\n",
       "\n",
       "    .dataframe thead th {\n",
       "        text-align: right;\n",
       "    }\n",
       "</style>\n",
       "<table border=\"1\" class=\"dataframe\">\n",
       "  <thead>\n",
       "    <tr style=\"text-align: right;\">\n",
       "      <th></th>\n",
       "      <th>Country</th>\n",
       "      <th>Crop</th>\n",
       "      <th>Year</th>\n",
       "      <th>Yield</th>\n",
       "      <th>Annual Population</th>\n",
       "      <th>Total emission</th>\n",
       "      <th>Ctry</th>\n",
       "      <th>Crp</th>\n",
       "    </tr>\n",
       "  </thead>\n",
       "  <tbody>\n",
       "    <tr>\n",
       "      <td>56</td>\n",
       "      <td>Afghanistan</td>\n",
       "      <td>Barley</td>\n",
       "      <td>2017</td>\n",
       "      <td>4.144045</td>\n",
       "      <td>4.55986</td>\n",
       "      <td>0.915975</td>\n",
       "      <td>Afghanistan</td>\n",
       "      <td>Barley</td>\n",
       "    </tr>\n",
       "    <tr>\n",
       "      <td>113</td>\n",
       "      <td>Afghanistan</td>\n",
       "      <td>Maize</td>\n",
       "      <td>2017</td>\n",
       "      <td>4.112504</td>\n",
       "      <td>4.55986</td>\n",
       "      <td>1.335315</td>\n",
       "      <td>Afghanistan</td>\n",
       "      <td>Maize</td>\n",
       "    </tr>\n",
       "    <tr>\n",
       "      <td>170</td>\n",
       "      <td>Afghanistan</td>\n",
       "      <td>Millet</td>\n",
       "      <td>2017</td>\n",
       "      <td>4.540367</td>\n",
       "      <td>4.55986</td>\n",
       "      <td>-0.217312</td>\n",
       "      <td>Afghanistan</td>\n",
       "      <td>Millet</td>\n",
       "    </tr>\n",
       "    <tr>\n",
       "      <td>227</td>\n",
       "      <td>Afghanistan</td>\n",
       "      <td>Potatoes</td>\n",
       "      <td>2017</td>\n",
       "      <td>5.203560</td>\n",
       "      <td>4.55986</td>\n",
       "      <td>0.854986</td>\n",
       "      <td>Afghanistan</td>\n",
       "      <td>Potatoes</td>\n",
       "    </tr>\n",
       "    <tr>\n",
       "      <td>284</td>\n",
       "      <td>Afghanistan</td>\n",
       "      <td>Rice, paddy</td>\n",
       "      <td>2017</td>\n",
       "      <td>4.490225</td>\n",
       "      <td>4.55986</td>\n",
       "      <td>1.516342</td>\n",
       "      <td>Afghanistan</td>\n",
       "      <td>Rice, paddy</td>\n",
       "    </tr>\n",
       "  </tbody>\n",
       "</table>\n",
       "</div>"
      ],
      "text/plain": [
       "         Country         Crop  Year     Yield  Annual Population  \\\n",
       "56   Afghanistan       Barley  2017  4.144045            4.55986   \n",
       "113  Afghanistan        Maize  2017  4.112504            4.55986   \n",
       "170  Afghanistan       Millet  2017  4.540367            4.55986   \n",
       "227  Afghanistan     Potatoes  2017  5.203560            4.55986   \n",
       "284  Afghanistan  Rice, paddy  2017  4.490225            4.55986   \n",
       "\n",
       "     Total emission         Ctry          Crp  \n",
       "56         0.915975  Afghanistan       Barley  \n",
       "113        1.335315  Afghanistan        Maize  \n",
       "170       -0.217312  Afghanistan       Millet  \n",
       "227        0.854986  Afghanistan     Potatoes  \n",
       "284        1.516342  Afghanistan  Rice, paddy  "
      ]
     },
     "execution_count": 368,
     "metadata": {},
     "output_type": "execute_result"
    }
   ],
   "source": [
    "profile.head()"
   ]
  },
  {
   "cell_type": "code",
   "execution_count": 369,
   "metadata": {},
   "outputs": [],
   "source": [
    "profile['Predicted']=RFR_profile_test"
   ]
  },
  {
   "cell_type": "code",
   "execution_count": 423,
   "metadata": {
    "scrolled": false
   },
   "outputs": [
    {
     "data": {
      "text/plain": [
       "189"
      ]
     },
     "execution_count": 423,
     "metadata": {},
     "output_type": "execute_result"
    }
   ],
   "source": [
    "profile['Country'].nunique()"
   ]
  },
  {
   "cell_type": "code",
   "execution_count": 376,
   "metadata": {},
   "outputs": [
    {
     "data": {
      "image/png": "[encoded data removed]",
      "text/plain": [
       "<Figure size 432x288 with 1 Axes>"
      ]
     },
     "metadata": {},
     "output_type": "display_data"
    }
   ],
   "source": [
    "sns.set(style=\"whitegrid\")\n",
    "\n",
    "ax = sns.barplot(x=\"Crop\", y=\"Predicted\", data=profile,capsize=.1,)"
   ]
  },
  {
   "cell_type": "code",
   "execution_count": 399,
   "metadata": {},
   "outputs": [],
   "source": [
    "# manoj=pd.DataFrame(profile['Predicted'])\n",
    "manoj['Total emission']=profile['Total emission']"
   ]
  },
  {
   "cell_type": "code",
   "execution_count": 400,
   "metadata": {},
   "outputs": [
    {
     "data": {
      "text/html": [
       "<div>\n",
       "<style scoped>\n",
       "    .dataframe tbody tr th:only-of-type {\n",
       "        vertical-align: middle;\n",
       "    }\n",
       "\n",
       "    .dataframe tbody tr th {\n",
       "        vertical-align: top;\n",
       "    }\n",
       "\n",
       "    .dataframe thead th {\n",
       "        text-align: right;\n",
       "    }\n",
       "</style>\n",
       "<table border=\"1\" class=\"dataframe\">\n",
       "  <thead>\n",
       "    <tr style=\"text-align: right;\">\n",
       "      <th></th>\n",
       "      <th>Predicted</th>\n",
       "      <th>Total emission</th>\n",
       "    </tr>\n",
       "  </thead>\n",
       "  <tbody>\n",
       "    <tr>\n",
       "      <td>56</td>\n",
       "      <td>1.595836</td>\n",
       "      <td>0.915975</td>\n",
       "    </tr>\n",
       "    <tr>\n",
       "      <td>113</td>\n",
       "      <td>1.372678</td>\n",
       "      <td>1.335315</td>\n",
       "    </tr>\n",
       "    <tr>\n",
       "      <td>170</td>\n",
       "      <td>-0.194018</td>\n",
       "      <td>-0.217312</td>\n",
       "    </tr>\n",
       "    <tr>\n",
       "      <td>227</td>\n",
       "      <td>1.217364</td>\n",
       "      <td>0.854986</td>\n",
       "    </tr>\n",
       "    <tr>\n",
       "      <td>284</td>\n",
       "      <td>1.714471</td>\n",
       "      <td>1.516342</td>\n",
       "    </tr>\n",
       "    <tr>\n",
       "      <td>...</td>\n",
       "      <td>...</td>\n",
       "      <td>...</td>\n",
       "    </tr>\n",
       "    <tr>\n",
       "      <td>66344</td>\n",
       "      <td>-0.455986</td>\n",
       "      <td>-0.469672</td>\n",
       "    </tr>\n",
       "    <tr>\n",
       "      <td>66401</td>\n",
       "      <td>0.586224</td>\n",
       "      <td>0.470660</td>\n",
       "    </tr>\n",
       "    <tr>\n",
       "      <td>66458</td>\n",
       "      <td>1.139008</td>\n",
       "      <td>1.156167</td>\n",
       "    </tr>\n",
       "    <tr>\n",
       "      <td>66526</td>\n",
       "      <td>0.327440</td>\n",
       "      <td>0.344589</td>\n",
       "    </tr>\n",
       "    <tr>\n",
       "      <td>66583</td>\n",
       "      <td>0.343285</td>\n",
       "      <td>0.368863</td>\n",
       "    </tr>\n",
       "  </tbody>\n",
       "</table>\n",
       "<p>1316 rows × 2 columns</p>\n",
       "</div>"
      ],
      "text/plain": [
       "       Predicted  Total emission\n",
       "56      1.595836        0.915975\n",
       "113     1.372678        1.335315\n",
       "170    -0.194018       -0.217312\n",
       "227     1.217364        0.854986\n",
       "284     1.714471        1.516342\n",
       "...          ...             ...\n",
       "66344  -0.455986       -0.469672\n",
       "66401   0.586224        0.470660\n",
       "66458   1.139008        1.156167\n",
       "66526   0.327440        0.344589\n",
       "66583   0.343285        0.368863\n",
       "\n",
       "[1316 rows x 2 columns]"
      ]
     },
     "execution_count": 400,
     "metadata": {},
     "output_type": "execute_result"
    }
   ],
   "source": [
    "manoj"
   ]
  },
  {
   "cell_type": "code",
   "execution_count": 401,
   "metadata": {},
   "outputs": [
    {
     "data": {
      "image/png": "[encoded data removed]",
      "text/plain": [
       "<Figure size 432x288 with 1 Axes>"
      ]
     },
     "metadata": {},
     "output_type": "display_data"
    }
   ],
   "source": [
    "manoj.plot(kind='bar')\n",
    "plt.show()"
   ]
  },
  {
   "cell_type": "code",
   "execution_count": 427,
   "metadata": {},
   "outputs": [
    {
     "data": {
      "text/plain": [
       "Text(0.5, 0, 'Total emission')"
      ]
     },
     "execution_count": 427,
     "metadata": {},
     "output_type": "execute_result"
    },
    {
     "data": {
      "image/png": "[encoded data removed]",
      "text/plain": [
       "<Figure size 432x288 with 1 Axes>"
      ]
     },
     "metadata": {},
     "output_type": "display_data"
    }
   ],
   "source": [
    "sns.set(style=\"whitegrid\")\n",
    "\n",
    "ax = sns.barplot(x=\"Predicted\", y=\"Crop\", data=profile,capsize=.1)\n",
    "plt.title('Total Predicted emission per crop in Year 2017')\n",
    "plt.ylabel('Crops')\n",
    "plt.xlabel('Total emission')"
   ]
  },
  {
   "cell_type": "code",
   "execution_count": 429,
   "metadata": {},
   "outputs": [
    {
     "data": {
      "text/html": [
       "<div>\n",
       "<style scoped>\n",
       "    .dataframe tbody tr th:only-of-type {\n",
       "        vertical-align: middle;\n",
       "    }\n",
       "\n",
       "    .dataframe tbody tr th {\n",
       "        vertical-align: top;\n",
       "    }\n",
       "\n",
       "    .dataframe thead th {\n",
       "        text-align: right;\n",
       "    }\n",
       "</style>\n",
       "<table border=\"1\" class=\"dataframe\">\n",
       "  <thead>\n",
       "    <tr style=\"text-align: right;\">\n",
       "      <th></th>\n",
       "      <th>Country</th>\n",
       "      <th>Crop</th>\n",
       "      <th>Year</th>\n",
       "      <th>Yield</th>\n",
       "      <th>Annual Population</th>\n",
       "      <th>Total emission</th>\n",
       "      <th>Ctry</th>\n",
       "      <th>Crp</th>\n",
       "      <th>Predicted</th>\n",
       "    </tr>\n",
       "  </thead>\n",
       "  <tbody>\n",
       "    <tr>\n",
       "      <td>26293</td>\n",
       "      <td>India</td>\n",
       "      <td>Rice, paddy</td>\n",
       "      <td>2017</td>\n",
       "      <td>4.585224</td>\n",
       "      <td>6.126676</td>\n",
       "      <td>4.166329</td>\n",
       "      <td>India</td>\n",
       "      <td>Rice, paddy</td>\n",
       "      <td>3.081083</td>\n",
       "    </tr>\n",
       "  </tbody>\n",
       "</table>\n",
       "</div>"
      ],
      "text/plain": [
       "      Country         Crop  Year     Yield  Annual Population  Total emission  \\\n",
       "26293   India  Rice, paddy  2017  4.585224           6.126676        4.166329   \n",
       "\n",
       "        Ctry          Crp  Predicted  \n",
       "26293  India  Rice, paddy   3.081083  "
      ]
     },
     "execution_count": 429,
     "metadata": {},
     "output_type": "execute_result"
    }
   ],
   "source": [
    "profile.loc[(profile['Country']=='India')&(profile['Crop']=='Rice, paddy')]"
   ]
  },
  {
   "cell_type": "code",
   "execution_count": 441,
   "metadata": {},
   "outputs": [
    {
     "data": {
      "text/html": [
       "<div>\n",
       "<style scoped>\n",
       "    .dataframe tbody tr th:only-of-type {\n",
       "        vertical-align: middle;\n",
       "    }\n",
       "\n",
       "    .dataframe tbody tr th {\n",
       "        vertical-align: top;\n",
       "    }\n",
       "\n",
       "    .dataframe thead th {\n",
       "        text-align: right;\n",
       "    }\n",
       "</style>\n",
       "<table border=\"1\" class=\"dataframe\">\n",
       "  <thead>\n",
       "    <tr style=\"text-align: right;\">\n",
       "      <th></th>\n",
       "      <th>Country</th>\n",
       "      <th>Crop</th>\n",
       "      <th>Year</th>\n",
       "      <th>Area harvested</th>\n",
       "      <th>Production quantity</th>\n",
       "      <th>Yield</th>\n",
       "      <th>Annual Population</th>\n",
       "      <th>Total emission</th>\n",
       "    </tr>\n",
       "  </thead>\n",
       "  <tbody>\n",
       "    <tr>\n",
       "      <td>26237</td>\n",
       "      <td>India</td>\n",
       "      <td>Rice, paddy</td>\n",
       "      <td>1961</td>\n",
       "      <td>34694000.0</td>\n",
       "      <td>53494496.0</td>\n",
       "      <td>15419.0</td>\n",
       "      <td>459642.165</td>\n",
       "      <td>7922.8648</td>\n",
       "    </tr>\n",
       "    <tr>\n",
       "      <td>26238</td>\n",
       "      <td>India</td>\n",
       "      <td>Rice, paddy</td>\n",
       "      <td>1962</td>\n",
       "      <td>35695008.0</td>\n",
       "      <td>49825552.0</td>\n",
       "      <td>13959.0</td>\n",
       "      <td>469077.190</td>\n",
       "      <td>7910.5758</td>\n",
       "    </tr>\n",
       "    <tr>\n",
       "      <td>26239</td>\n",
       "      <td>India</td>\n",
       "      <td>Rice, paddy</td>\n",
       "      <td>1963</td>\n",
       "      <td>35809008.0</td>\n",
       "      <td>55497008.0</td>\n",
       "      <td>15498.0</td>\n",
       "      <td>478825.608</td>\n",
       "      <td>8190.5843</td>\n",
       "    </tr>\n",
       "    <tr>\n",
       "      <td>26240</td>\n",
       "      <td>India</td>\n",
       "      <td>Rice, paddy</td>\n",
       "      <td>1964</td>\n",
       "      <td>36462000.0</td>\n",
       "      <td>58962000.0</td>\n",
       "      <td>16171.0</td>\n",
       "      <td>488848.135</td>\n",
       "      <td>8453.3040</td>\n",
       "    </tr>\n",
       "    <tr>\n",
       "      <td>26241</td>\n",
       "      <td>India</td>\n",
       "      <td>Rice, paddy</td>\n",
       "      <td>1965</td>\n",
       "      <td>35470000.0</td>\n",
       "      <td>45883504.0</td>\n",
       "      <td>12936.0</td>\n",
       "      <td>499123.324</td>\n",
       "      <td>7693.0492</td>\n",
       "    </tr>\n",
       "    <tr>\n",
       "      <td>26242</td>\n",
       "      <td>India</td>\n",
       "      <td>Rice, paddy</td>\n",
       "      <td>1966</td>\n",
       "      <td>35251008.0</td>\n",
       "      <td>45657008.0</td>\n",
       "      <td>12952.0</td>\n",
       "      <td>509631.500</td>\n",
       "      <td>7648.1767</td>\n",
       "    </tr>\n",
       "    <tr>\n",
       "      <td>26243</td>\n",
       "      <td>India</td>\n",
       "      <td>Rice, paddy</td>\n",
       "      <td>1967</td>\n",
       "      <td>36437408.0</td>\n",
       "      <td>56418304.0</td>\n",
       "      <td>15484.0</td>\n",
       "      <td>520400.576</td>\n",
       "      <td>8331.8871</td>\n",
       "    </tr>\n",
       "    <tr>\n",
       "      <td>26244</td>\n",
       "      <td>India</td>\n",
       "      <td>Rice, paddy</td>\n",
       "      <td>1968</td>\n",
       "      <td>36966304.0</td>\n",
       "      <td>59641808.0</td>\n",
       "      <td>16134.0</td>\n",
       "      <td>531513.824</td>\n",
       "      <td>8563.9504</td>\n",
       "    </tr>\n",
       "    <tr>\n",
       "      <td>26245</td>\n",
       "      <td>India</td>\n",
       "      <td>Rice, paddy</td>\n",
       "      <td>1969</td>\n",
       "      <td>37680304.0</td>\n",
       "      <td>60644544.0</td>\n",
       "      <td>16094.0</td>\n",
       "      <td>543084.336</td>\n",
       "      <td>8722.4653</td>\n",
       "    </tr>\n",
       "    <tr>\n",
       "      <td>26246</td>\n",
       "      <td>India</td>\n",
       "      <td>Rice, paddy</td>\n",
       "      <td>1970</td>\n",
       "      <td>37591696.0</td>\n",
       "      <td>63337808.0</td>\n",
       "      <td>16849.0</td>\n",
       "      <td>555189.792</td>\n",
       "      <td>8833.0096</td>\n",
       "    </tr>\n",
       "    <tr>\n",
       "      <td>26247</td>\n",
       "      <td>India</td>\n",
       "      <td>Rice, paddy</td>\n",
       "      <td>1971</td>\n",
       "      <td>37757808.0</td>\n",
       "      <td>64602000.0</td>\n",
       "      <td>17110.0</td>\n",
       "      <td>567868.018</td>\n",
       "      <td>8917.5300</td>\n",
       "    </tr>\n",
       "    <tr>\n",
       "      <td>26248</td>\n",
       "      <td>India</td>\n",
       "      <td>Rice, paddy</td>\n",
       "      <td>1972</td>\n",
       "      <td>36687808.0</td>\n",
       "      <td>58867952.0</td>\n",
       "      <td>16046.0</td>\n",
       "      <td>581087.256</td>\n",
       "      <td>8484.4339</td>\n",
       "    </tr>\n",
       "    <tr>\n",
       "      <td>26249</td>\n",
       "      <td>India</td>\n",
       "      <td>Rice, paddy</td>\n",
       "      <td>1973</td>\n",
       "      <td>38285008.0</td>\n",
       "      <td>66077008.0</td>\n",
       "      <td>17259.0</td>\n",
       "      <td>594770.134</td>\n",
       "      <td>9068.5225</td>\n",
       "    </tr>\n",
       "    <tr>\n",
       "      <td>26250</td>\n",
       "      <td>India</td>\n",
       "      <td>Rice, paddy</td>\n",
       "      <td>1974</td>\n",
       "      <td>37888400.0</td>\n",
       "      <td>59650000.0</td>\n",
       "      <td>15744.0</td>\n",
       "      <td>608802.600</td>\n",
       "      <td>8709.1973</td>\n",
       "    </tr>\n",
       "    <tr>\n",
       "      <td>26251</td>\n",
       "      <td>India</td>\n",
       "      <td>Rice, paddy</td>\n",
       "      <td>1975</td>\n",
       "      <td>39475408.0</td>\n",
       "      <td>73352000.0</td>\n",
       "      <td>18582.0</td>\n",
       "      <td>623102.897</td>\n",
       "      <td>9591.7469</td>\n",
       "    </tr>\n",
       "    <tr>\n",
       "      <td>26252</td>\n",
       "      <td>India</td>\n",
       "      <td>Rice, paddy</td>\n",
       "      <td>1976</td>\n",
       "      <td>38511104.0</td>\n",
       "      <td>63051904.0</td>\n",
       "      <td>16372.0</td>\n",
       "      <td>637630.087</td>\n",
       "      <td>8964.2431</td>\n",
       "    </tr>\n",
       "    <tr>\n",
       "      <td>26253</td>\n",
       "      <td>India</td>\n",
       "      <td>Rice, paddy</td>\n",
       "      <td>1977</td>\n",
       "      <td>40282608.0</td>\n",
       "      <td>79005600.0</td>\n",
       "      <td>19613.0</td>\n",
       "      <td>652408.776</td>\n",
       "      <td>9979.8373</td>\n",
       "    </tr>\n",
       "    <tr>\n",
       "      <td>26254</td>\n",
       "      <td>India</td>\n",
       "      <td>Rice, paddy</td>\n",
       "      <td>1978</td>\n",
       "      <td>40482208.0</td>\n",
       "      <td>80608496.0</td>\n",
       "      <td>19912.0</td>\n",
       "      <td>667499.806</td>\n",
       "      <td>10085.2715</td>\n",
       "    </tr>\n",
       "    <tr>\n",
       "      <td>26255</td>\n",
       "      <td>India</td>\n",
       "      <td>Rice, paddy</td>\n",
       "      <td>1979</td>\n",
       "      <td>39414304.0</td>\n",
       "      <td>63475696.0</td>\n",
       "      <td>16105.0</td>\n",
       "      <td>682995.354</td>\n",
       "      <td>9125.7277</td>\n",
       "    </tr>\n",
       "    <tr>\n",
       "      <td>26256</td>\n",
       "      <td>India</td>\n",
       "      <td>Rice, paddy</td>\n",
       "      <td>1980</td>\n",
       "      <td>40151504.0</td>\n",
       "      <td>80312000.0</td>\n",
       "      <td>20002.0</td>\n",
       "      <td>698952.844</td>\n",
       "      <td>10019.6133</td>\n",
       "    </tr>\n",
       "    <tr>\n",
       "      <td>26257</td>\n",
       "      <td>India</td>\n",
       "      <td>Rice, paddy</td>\n",
       "      <td>1981</td>\n",
       "      <td>40708400.0</td>\n",
       "      <td>79883008.0</td>\n",
       "      <td>19623.0</td>\n",
       "      <td>715384.993</td>\n",
       "      <td>10087.2806</td>\n",
       "    </tr>\n",
       "    <tr>\n",
       "      <td>26258</td>\n",
       "      <td>India</td>\n",
       "      <td>Rice, paddy</td>\n",
       "      <td>1982</td>\n",
       "      <td>38262000.0</td>\n",
       "      <td>70771696.0</td>\n",
       "      <td>18497.0</td>\n",
       "      <td>732239.504</td>\n",
       "      <td>9281.8661</td>\n",
       "    </tr>\n",
       "    <tr>\n",
       "      <td>26259</td>\n",
       "      <td>India</td>\n",
       "      <td>Rice, paddy</td>\n",
       "      <td>1983</td>\n",
       "      <td>41244000.0</td>\n",
       "      <td>90048000.0</td>\n",
       "      <td>21833.0</td>\n",
       "      <td>749428.958</td>\n",
       "      <td>10641.1881</td>\n",
       "    </tr>\n",
       "    <tr>\n",
       "      <td>26260</td>\n",
       "      <td>India</td>\n",
       "      <td>Rice, paddy</td>\n",
       "      <td>1984</td>\n",
       "      <td>41158800.0</td>\n",
       "      <td>87552800.0</td>\n",
       "      <td>21272.0</td>\n",
       "      <td>766833.410</td>\n",
       "      <td>10512.4904</td>\n",
       "    </tr>\n",
       "    <tr>\n",
       "      <td>26261</td>\n",
       "      <td>India</td>\n",
       "      <td>Rice, paddy</td>\n",
       "      <td>1985</td>\n",
       "      <td>41137200.0</td>\n",
       "      <td>95817696.0</td>\n",
       "      <td>23292.0</td>\n",
       "      <td>784360.008</td>\n",
       "      <td>10891.0473</td>\n",
       "    </tr>\n",
       "    <tr>\n",
       "      <td>26262</td>\n",
       "      <td>India</td>\n",
       "      <td>Rice, paddy</td>\n",
       "      <td>1986</td>\n",
       "      <td>41166704.0</td>\n",
       "      <td>90779408.0</td>\n",
       "      <td>22052.0</td>\n",
       "      <td>801975.244</td>\n",
       "      <td>10662.8453</td>\n",
       "    </tr>\n",
       "    <tr>\n",
       "      <td>26263</td>\n",
       "      <td>India</td>\n",
       "      <td>Rice, paddy</td>\n",
       "      <td>1987</td>\n",
       "      <td>38806304.0</td>\n",
       "      <td>85338704.0</td>\n",
       "      <td>21991.0</td>\n",
       "      <td>819682.102</td>\n",
       "      <td>10040.5739</td>\n",
       "    </tr>\n",
       "    <tr>\n",
       "      <td>26264</td>\n",
       "      <td>India</td>\n",
       "      <td>Rice, paddy</td>\n",
       "      <td>1988</td>\n",
       "      <td>41735808.0</td>\n",
       "      <td>106368800.0</td>\n",
       "      <td>25486.0</td>\n",
       "      <td>837468.930</td>\n",
       "      <td>11472.6973</td>\n",
       "    </tr>\n",
       "    <tr>\n",
       "      <td>26265</td>\n",
       "      <td>India</td>\n",
       "      <td>Rice, paddy</td>\n",
       "      <td>1989</td>\n",
       "      <td>42166896.0</td>\n",
       "      <td>110310608.0</td>\n",
       "      <td>26160.0</td>\n",
       "      <td>855334.678</td>\n",
       "      <td>11722.5897</td>\n",
       "    </tr>\n",
       "    <tr>\n",
       "      <td>26266</td>\n",
       "      <td>India</td>\n",
       "      <td>Rice, paddy</td>\n",
       "      <td>1990</td>\n",
       "      <td>42686608.0</td>\n",
       "      <td>111517408.0</td>\n",
       "      <td>26125.0</td>\n",
       "      <td>873277.798</td>\n",
       "      <td>11860.0109</td>\n",
       "    </tr>\n",
       "    <tr>\n",
       "      <td>26267</td>\n",
       "      <td>India</td>\n",
       "      <td>Rice, paddy</td>\n",
       "      <td>1991</td>\n",
       "      <td>42648704.0</td>\n",
       "      <td>112042000.0</td>\n",
       "      <td>26271.0</td>\n",
       "      <td>891273.209</td>\n",
       "      <td>11878.2992</td>\n",
       "    </tr>\n",
       "    <tr>\n",
       "      <td>26268</td>\n",
       "      <td>India</td>\n",
       "      <td>Rice, paddy</td>\n",
       "      <td>1992</td>\n",
       "      <td>41775000.0</td>\n",
       "      <td>109001200.0</td>\n",
       "      <td>26092.0</td>\n",
       "      <td>909307.016</td>\n",
       "      <td>11600.5074</td>\n",
       "    </tr>\n",
       "    <tr>\n",
       "      <td>26269</td>\n",
       "      <td>India</td>\n",
       "      <td>Rice, paddy</td>\n",
       "      <td>1993</td>\n",
       "      <td>42539000.0</td>\n",
       "      <td>120400000.0</td>\n",
       "      <td>28303.0</td>\n",
       "      <td>927403.860</td>\n",
       "      <td>12247.3169</td>\n",
       "    </tr>\n",
       "    <tr>\n",
       "      <td>26270</td>\n",
       "      <td>India</td>\n",
       "      <td>Rice, paddy</td>\n",
       "      <td>1994</td>\n",
       "      <td>42814000.0</td>\n",
       "      <td>122640000.0</td>\n",
       "      <td>28645.0</td>\n",
       "      <td>945601.831</td>\n",
       "      <td>12394.0399</td>\n",
       "    </tr>\n",
       "    <tr>\n",
       "      <td>26271</td>\n",
       "      <td>India</td>\n",
       "      <td>Rice, paddy</td>\n",
       "      <td>1995</td>\n",
       "      <td>42800000.0</td>\n",
       "      <td>115440000.0</td>\n",
       "      <td>26972.0</td>\n",
       "      <td>963922.588</td>\n",
       "      <td>12059.1027</td>\n",
       "    </tr>\n",
       "    <tr>\n",
       "      <td>26272</td>\n",
       "      <td>India</td>\n",
       "      <td>Rice, paddy</td>\n",
       "      <td>1996</td>\n",
       "      <td>43400000.0</td>\n",
       "      <td>122500000.0</td>\n",
       "      <td>28226.0</td>\n",
       "      <td>982365.243</td>\n",
       "      <td>12479.6351</td>\n",
       "    </tr>\n",
       "    <tr>\n",
       "      <td>26273</td>\n",
       "      <td>India</td>\n",
       "      <td>Rice, paddy</td>\n",
       "      <td>1997</td>\n",
       "      <td>43469800.0</td>\n",
       "      <td>123700000.0</td>\n",
       "      <td>28457.0</td>\n",
       "      <td>1000900.030</td>\n",
       "      <td>12546.0575</td>\n",
       "    </tr>\n",
       "    <tr>\n",
       "      <td>26274</td>\n",
       "      <td>India</td>\n",
       "      <td>Rice, paddy</td>\n",
       "      <td>1998</td>\n",
       "      <td>44802300.0</td>\n",
       "      <td>129055000.0</td>\n",
       "      <td>28805.0</td>\n",
       "      <td>1019483.581</td>\n",
       "      <td>13002.8772</td>\n",
       "    </tr>\n",
       "    <tr>\n",
       "      <td>26275</td>\n",
       "      <td>India</td>\n",
       "      <td>Rice, paddy</td>\n",
       "      <td>1999</td>\n",
       "      <td>45160000.0</td>\n",
       "      <td>134495904.0</td>\n",
       "      <td>29782.0</td>\n",
       "      <td>1038058.156</td>\n",
       "      <td>13310.5182</td>\n",
       "    </tr>\n",
       "    <tr>\n",
       "      <td>26276</td>\n",
       "      <td>India</td>\n",
       "      <td>Rice, paddy</td>\n",
       "      <td>2000</td>\n",
       "      <td>44712000.0</td>\n",
       "      <td>127464896.0</td>\n",
       "      <td>28508.0</td>\n",
       "      <td>1056575.549</td>\n",
       "      <td>12915.2059</td>\n",
       "    </tr>\n",
       "    <tr>\n",
       "      <td>26277</td>\n",
       "      <td>India</td>\n",
       "      <td>Rice, paddy</td>\n",
       "      <td>2001</td>\n",
       "      <td>44900000.0</td>\n",
       "      <td>139900000.0</td>\n",
       "      <td>31158.0</td>\n",
       "      <td>1075000.085</td>\n",
       "      <td>13519.4128</td>\n",
       "    </tr>\n",
       "    <tr>\n",
       "      <td>26278</td>\n",
       "      <td>India</td>\n",
       "      <td>Rice, paddy</td>\n",
       "      <td>2002</td>\n",
       "      <td>41176100.0</td>\n",
       "      <td>107730304.0</td>\n",
       "      <td>26163.0</td>\n",
       "      <td>1093317.189</td>\n",
       "      <td>11447.6829</td>\n",
       "    </tr>\n",
       "    <tr>\n",
       "      <td>26279</td>\n",
       "      <td>India</td>\n",
       "      <td>Rice, paddy</td>\n",
       "      <td>2003</td>\n",
       "      <td>42592500.0</td>\n",
       "      <td>132789000.0</td>\n",
       "      <td>31177.0</td>\n",
       "      <td>1111523.144</td>\n",
       "      <td>12828.2622</td>\n",
       "    </tr>\n",
       "    <tr>\n",
       "      <td>26280</td>\n",
       "      <td>India</td>\n",
       "      <td>Rice, paddy</td>\n",
       "      <td>2004</td>\n",
       "      <td>41906700.0</td>\n",
       "      <td>124697104.0</td>\n",
       "      <td>29756.0</td>\n",
       "      <td>1129623.456</td>\n",
       "      <td>12346.5623</td>\n",
       "    </tr>\n",
       "    <tr>\n",
       "      <td>26281</td>\n",
       "      <td>India</td>\n",
       "      <td>Rice, paddy</td>\n",
       "      <td>2005</td>\n",
       "      <td>43659800.0</td>\n",
       "      <td>137690096.0</td>\n",
       "      <td>31537.0</td>\n",
       "      <td>1147609.927</td>\n",
       "      <td>13222.4404</td>\n",
       "    </tr>\n",
       "    <tr>\n",
       "      <td>26282</td>\n",
       "      <td>India</td>\n",
       "      <td>Rice, paddy</td>\n",
       "      <td>2006</td>\n",
       "      <td>43810000.0</td>\n",
       "      <td>139136992.0</td>\n",
       "      <td>31759.0</td>\n",
       "      <td>1165486.291</td>\n",
       "      <td>13312.9041</td>\n",
       "    </tr>\n",
       "    <tr>\n",
       "      <td>26283</td>\n",
       "      <td>India</td>\n",
       "      <td>Rice, paddy</td>\n",
       "      <td>2007</td>\n",
       "      <td>43910000.0</td>\n",
       "      <td>144570000.0</td>\n",
       "      <td>32924.0</td>\n",
       "      <td>1183209.472</td>\n",
       "      <td>13579.6936</td>\n",
       "    </tr>\n",
       "    <tr>\n",
       "      <td>26284</td>\n",
       "      <td>India</td>\n",
       "      <td>Rice, paddy</td>\n",
       "      <td>2008</td>\n",
       "      <td>45537400.0</td>\n",
       "      <td>148036000.0</td>\n",
       "      <td>32509.0</td>\n",
       "      <td>1200669.765</td>\n",
       "      <td>13995.5469</td>\n",
       "    </tr>\n",
       "    <tr>\n",
       "      <td>26285</td>\n",
       "      <td>India</td>\n",
       "      <td>Rice, paddy</td>\n",
       "      <td>2009</td>\n",
       "      <td>41918300.0</td>\n",
       "      <td>135672992.0</td>\n",
       "      <td>32366.0</td>\n",
       "      <td>1217726.215</td>\n",
       "      <td>12855.6198</td>\n",
       "    </tr>\n",
       "    <tr>\n",
       "      <td>26286</td>\n",
       "      <td>India</td>\n",
       "      <td>Rice, paddy</td>\n",
       "      <td>2010</td>\n",
       "      <td>42862400.0</td>\n",
       "      <td>143963008.0</td>\n",
       "      <td>33587.0</td>\n",
       "      <td>1234281.170</td>\n",
       "      <td>13387.0564</td>\n",
       "    </tr>\n",
       "    <tr>\n",
       "      <td>26287</td>\n",
       "      <td>India</td>\n",
       "      <td>Rice, paddy</td>\n",
       "      <td>2011</td>\n",
       "      <td>44010000.0</td>\n",
       "      <td>157900000.0</td>\n",
       "      <td>35878.0</td>\n",
       "      <td>1250287.943</td>\n",
       "      <td>14211.4314</td>\n",
       "    </tr>\n",
       "    <tr>\n",
       "      <td>26288</td>\n",
       "      <td>India</td>\n",
       "      <td>Rice, paddy</td>\n",
       "      <td>2012</td>\n",
       "      <td>42754000.0</td>\n",
       "      <td>157800000.0</td>\n",
       "      <td>36909.0</td>\n",
       "      <td>1265780.247</td>\n",
       "      <td>14009.4828</td>\n",
       "    </tr>\n",
       "    <tr>\n",
       "      <td>26289</td>\n",
       "      <td>India</td>\n",
       "      <td>Rice, paddy</td>\n",
       "      <td>2013</td>\n",
       "      <td>44135950.0</td>\n",
       "      <td>159200000.0</td>\n",
       "      <td>36070.0</td>\n",
       "      <td>1280842.125</td>\n",
       "      <td>14291.2967</td>\n",
       "    </tr>\n",
       "    <tr>\n",
       "      <td>26290</td>\n",
       "      <td>India</td>\n",
       "      <td>Rice, paddy</td>\n",
       "      <td>2014</td>\n",
       "      <td>44110000.0</td>\n",
       "      <td>157200000.0</td>\n",
       "      <td>35638.0</td>\n",
       "      <td>1295600.772</td>\n",
       "      <td>14194.7926</td>\n",
       "    </tr>\n",
       "    <tr>\n",
       "      <td>26291</td>\n",
       "      <td>India</td>\n",
       "      <td>Rice, paddy</td>\n",
       "      <td>2015</td>\n",
       "      <td>43390000.0</td>\n",
       "      <td>156540000.0</td>\n",
       "      <td>36077.0</td>\n",
       "      <td>1310152.403</td>\n",
       "      <td>14051.1741</td>\n",
       "    </tr>\n",
       "    <tr>\n",
       "      <td>26292</td>\n",
       "      <td>India</td>\n",
       "      <td>Rice, paddy</td>\n",
       "      <td>2016</td>\n",
       "      <td>43190000.0</td>\n",
       "      <td>163700000.0</td>\n",
       "      <td>37902.0</td>\n",
       "      <td>1324517.249</td>\n",
       "      <td>14350.6418</td>\n",
       "    </tr>\n",
       "    <tr>\n",
       "      <td>26293</td>\n",
       "      <td>India</td>\n",
       "      <td>Rice, paddy</td>\n",
       "      <td>2017</td>\n",
       "      <td>43790000.0</td>\n",
       "      <td>168500000.0</td>\n",
       "      <td>38479.0</td>\n",
       "      <td>1338676.785</td>\n",
       "      <td>14666.5745</td>\n",
       "    </tr>\n",
       "  </tbody>\n",
       "</table>\n",
       "</div>"
      ],
      "text/plain": [
       "      Country         Crop  Year  Area harvested  Production quantity  \\\n",
       "26237   India  Rice, paddy  1961      34694000.0           53494496.0   \n",
       "26238   India  Rice, paddy  1962      35695008.0           49825552.0   \n",
       "26239   India  Rice, paddy  1963      35809008.0           55497008.0   \n",
       "26240   India  Rice, paddy  1964      36462000.0           58962000.0   \n",
       "26241   India  Rice, paddy  1965      35470000.0           45883504.0   \n",
       "26242   India  Rice, paddy  1966      35251008.0           45657008.0   \n",
       "26243   India  Rice, paddy  1967      36437408.0           56418304.0   \n",
       "26244   India  Rice, paddy  1968      36966304.0           59641808.0   \n",
       "26245   India  Rice, paddy  1969      37680304.0           60644544.0   \n",
       "26246   India  Rice, paddy  1970      37591696.0           63337808.0   \n",
       "26247   India  Rice, paddy  1971      37757808.0           64602000.0   \n",
       "26248   India  Rice, paddy  1972      36687808.0           58867952.0   \n",
       "26249   India  Rice, paddy  1973      38285008.0           66077008.0   \n",
       "26250   India  Rice, paddy  1974      37888400.0           59650000.0   \n",
       "26251   India  Rice, paddy  1975      39475408.0           73352000.0   \n",
       "26252   India  Rice, paddy  1976      38511104.0           63051904.0   \n",
       "26253   India  Rice, paddy  1977      40282608.0           79005600.0   \n",
       "26254   India  Rice, paddy  1978      40482208.0           80608496.0   \n",
       "26255   India  Rice, paddy  1979      39414304.0           63475696.0   \n",
       "26256   India  Rice, paddy  1980      40151504.0           80312000.0   \n",
       "26257   India  Rice, paddy  1981      40708400.0           79883008.0   \n",
       "26258   India  Rice, paddy  1982      38262000.0           70771696.0   \n",
       "26259   India  Rice, paddy  1983      41244000.0           90048000.0   \n",
       "26260   India  Rice, paddy  1984      41158800.0           87552800.0   \n",
       "26261   India  Rice, paddy  1985      41137200.0           95817696.0   \n",
       "26262   India  Rice, paddy  1986      41166704.0           90779408.0   \n",
       "26263   India  Rice, paddy  1987      38806304.0           85338704.0   \n",
       "26264   India  Rice, paddy  1988      41735808.0          106368800.0   \n",
       "26265   India  Rice, paddy  1989      42166896.0          110310608.0   \n",
       "26266   India  Rice, paddy  1990      42686608.0          111517408.0   \n",
       "26267   India  Rice, paddy  1991      42648704.0          112042000.0   \n",
       "26268   India  Rice, paddy  1992      41775000.0          109001200.0   \n",
       "26269   India  Rice, paddy  1993      42539000.0          120400000.0   \n",
       "26270   India  Rice, paddy  1994      42814000.0          122640000.0   \n",
       "26271   India  Rice, paddy  1995      42800000.0          115440000.0   \n",
       "26272   India  Rice, paddy  1996      43400000.0          122500000.0   \n",
       "26273   India  Rice, paddy  1997      43469800.0          123700000.0   \n",
       "26274   India  Rice, paddy  1998      44802300.0          129055000.0   \n",
       "26275   India  Rice, paddy  1999      45160000.0          134495904.0   \n",
       "26276   India  Rice, paddy  2000      44712000.0          127464896.0   \n",
       "26277   India  Rice, paddy  2001      44900000.0          139900000.0   \n",
       "26278   India  Rice, paddy  2002      41176100.0          107730304.0   \n",
       "26279   India  Rice, paddy  2003      42592500.0          132789000.0   \n",
       "26280   India  Rice, paddy  2004      41906700.0          124697104.0   \n",
       "26281   India  Rice, paddy  2005      43659800.0          137690096.0   \n",
       "26282   India  Rice, paddy  2006      43810000.0          139136992.0   \n",
       "26283   India  Rice, paddy  2007      43910000.0          144570000.0   \n",
       "26284   India  Rice, paddy  2008      45537400.0          148036000.0   \n",
       "26285   India  Rice, paddy  2009      41918300.0          135672992.0   \n",
       "26286   India  Rice, paddy  2010      42862400.0          143963008.0   \n",
       "26287   India  Rice, paddy  2011      44010000.0          157900000.0   \n",
       "26288   India  Rice, paddy  2012      42754000.0          157800000.0   \n",
       "26289   India  Rice, paddy  2013      44135950.0          159200000.0   \n",
       "26290   India  Rice, paddy  2014      44110000.0          157200000.0   \n",
       "26291   India  Rice, paddy  2015      43390000.0          156540000.0   \n",
       "26292   India  Rice, paddy  2016      43190000.0          163700000.0   \n",
       "26293   India  Rice, paddy  2017      43790000.0          168500000.0   \n",
       "\n",
       "         Yield  Annual Population  Total emission  \n",
       "26237  15419.0         459642.165       7922.8648  \n",
       "26238  13959.0         469077.190       7910.5758  \n",
       "26239  15498.0         478825.608       8190.5843  \n",
       "26240  16171.0         488848.135       8453.3040  \n",
       "26241  12936.0         499123.324       7693.0492  \n",
       "26242  12952.0         509631.500       7648.1767  \n",
       "26243  15484.0         520400.576       8331.8871  \n",
       "26244  16134.0         531513.824       8563.9504  \n",
       "26245  16094.0         543084.336       8722.4653  \n",
       "26246  16849.0         555189.792       8833.0096  \n",
       "26247  17110.0         567868.018       8917.5300  \n",
       "26248  16046.0         581087.256       8484.4339  \n",
       "26249  17259.0         594770.134       9068.5225  \n",
       "26250  15744.0         608802.600       8709.1973  \n",
       "26251  18582.0         623102.897       9591.7469  \n",
       "26252  16372.0         637630.087       8964.2431  \n",
       "26253  19613.0         652408.776       9979.8373  \n",
       "26254  19912.0         667499.806      10085.2715  \n",
       "26255  16105.0         682995.354       9125.7277  \n",
       "26256  20002.0         698952.844      10019.6133  \n",
       "26257  19623.0         715384.993      10087.2806  \n",
       "26258  18497.0         732239.504       9281.8661  \n",
       "26259  21833.0         749428.958      10641.1881  \n",
       "26260  21272.0         766833.410      10512.4904  \n",
       "26261  23292.0         784360.008      10891.0473  \n",
       "26262  22052.0         801975.244      10662.8453  \n",
       "26263  21991.0         819682.102      10040.5739  \n",
       "26264  25486.0         837468.930      11472.6973  \n",
       "26265  26160.0         855334.678      11722.5897  \n",
       "26266  26125.0         873277.798      11860.0109  \n",
       "26267  26271.0         891273.209      11878.2992  \n",
       "26268  26092.0         909307.016      11600.5074  \n",
       "26269  28303.0         927403.860      12247.3169  \n",
       "26270  28645.0         945601.831      12394.0399  \n",
       "26271  26972.0         963922.588      12059.1027  \n",
       "26272  28226.0         982365.243      12479.6351  \n",
       "26273  28457.0        1000900.030      12546.0575  \n",
       "26274  28805.0        1019483.581      13002.8772  \n",
       "26275  29782.0        1038058.156      13310.5182  \n",
       "26276  28508.0        1056575.549      12915.2059  \n",
       "26277  31158.0        1075000.085      13519.4128  \n",
       "26278  26163.0        1093317.189      11447.6829  \n",
       "26279  31177.0        1111523.144      12828.2622  \n",
       "26280  29756.0        1129623.456      12346.5623  \n",
       "26281  31537.0        1147609.927      13222.4404  \n",
       "26282  31759.0        1165486.291      13312.9041  \n",
       "26283  32924.0        1183209.472      13579.6936  \n",
       "26284  32509.0        1200669.765      13995.5469  \n",
       "26285  32366.0        1217726.215      12855.6198  \n",
       "26286  33587.0        1234281.170      13387.0564  \n",
       "26287  35878.0        1250287.943      14211.4314  \n",
       "26288  36909.0        1265780.247      14009.4828  \n",
       "26289  36070.0        1280842.125      14291.2967  \n",
       "26290  35638.0        1295600.772      14194.7926  \n",
       "26291  36077.0        1310152.403      14051.1741  \n",
       "26292  37902.0        1324517.249      14350.6418  \n",
       "26293  38479.0        1338676.785      14666.5745  "
      ]
     },
     "execution_count": 441,
     "metadata": {},
     "output_type": "execute_result"
    }
   ],
   "source": [
    "data.loc[(data['Country']=='India')&(data['Crop']=='Rice, paddy')]"
   ]
  },
  {
   "cell_type": "code",
   "execution_count": 428,
   "metadata": {},
   "outputs": [
    {
     "data": {
      "text/plain": [
       "Text(0.5, 0, 'Total emission')"
      ]
     },
     "execution_count": 428,
     "metadata": {},
     "output_type": "execute_result"
    },
    {
     "data": {
      "image/png": "[encoded data removed]",
      "text/plain": [
       "<Figure size 432x288 with 1 Axes>"
      ]
     },
     "metadata": {},
     "output_type": "display_data"
    }
   ],
   "source": [
    "sns.set(style=\"whitegrid\")\n",
    "\n",
    "ax = sns.barplot(x=\"Total emission\", y=\"Crop\", data=profile,capsize=.1,)\n",
    "plt.title('Total Recorded emission per crop in Year 2017')\n",
    "plt.ylabel('Crops')\n",
    "plt.xlabel('Total emission')"
   ]
  },
  {
   "cell_type": "code",
   "execution_count": 421,
   "metadata": {},
   "outputs": [
    {
     "data": {
      "image/png": "[encoded data removed]",
      "text/plain": [
       "<Figure size 432x288 with 1 Axes>"
      ]
     },
     "metadata": {},
     "output_type": "display_data"
    }
   ],
   "source": [
    "profile.boxplot(column='Total emission',vert=False)\n",
    "plt.show()"
   ]
  },
  {
   "cell_type": "code",
   "execution_count": 420,
   "metadata": {},
   "outputs": [
    {
     "data": {
      "text/plain": [
       "<matplotlib.axes._subplots.AxesSubplot at 0x25d94ff10>"
      ]
     },
     "execution_count": 420,
     "metadata": {},
     "output_type": "execute_result"
    },
    {
     "data": {
      "image/png": "[encoded data removed]",
      "text/plain": [
       "<Figure size 432x288 with 1 Axes>"
      ]
     },
     "metadata": {},
     "output_type": "display_data"
    }
   ],
   "source": [
    "data.boxplot(column='Yield',showfliers=False, widths=(.51))"
   ]
  },
  {
   "cell_type": "code",
   "execution_count": 404,
   "metadata": {
    "scrolled": true
   },
   "outputs": [],
   "source": [
    "#profile.to_csv (r'/Users/nishachauhan/Documents/Master/THESIS/2.Dataset/profile.csv', index = False, header=True)"
   ]
  }
 ],
 "metadata": {
  "kernelspec": {
   "display_name": "Python 3",
   "language": "python",
   "name": "python3"
  },
  "language_info": {
   "codemirror_mode": {
    "name": "ipython",
    "version": 3
   },
   "file_extension": ".py",
   "mimetype": "text/x-python",
   "name": "python",
   "nbconvert_exporter": "python",
   "pygments_lexer": "ipython3",
   "version": "3.7.4"
  }
 },
 "nbformat": 4,
 "nbformat_minor": 2
}
